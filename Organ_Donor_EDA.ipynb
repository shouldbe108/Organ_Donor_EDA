{
  "nbformat": 4,
  "nbformat_minor": 0,
  "metadata": {
    "colab": {
      "name": "Copy of ConsentEDA.ipynb",
      "provenance": []
    },
    "kernelspec": {
      "name": "python3",
      "display_name": "Python 3"
    }
  },
  "cells": [
    {
      "cell_type": "code",
      "metadata": {
        "id": "p-zaw05TS5o4"
      },
      "source": [
        "import os\n",
        "import pandas as pd\n",
        "import numpy as np\n",
        "import matplotlib.pyplot as plt\n",
        "import plotly.express as px\n",
        "\n",
        "def mnrt(root, mydir):\n",
        "    return root+'/'+str(mydir)"
      ],
      "execution_count": null,
      "outputs": []
    },
    {
      "cell_type": "code",
      "metadata": {
        "colab": {
          "base_uri": "https://localhost:8080/"
        },
        "id": "bSSFSMO6TbCd",
        "outputId": "7335f005-cc7f-4393-c00d-48f64e79a5c4"
      },
      "source": [
        "from zipfile import ZipFile\n",
        "file_name = \"/content/csv-aodr-consent-2007-current.zip\"\n",
        "\n",
        "with ZipFile(file_name, 'r') as zip:\n",
        "  zip.extractall()\n",
        "  print('Done, Right click and refresh file area.Create a new folder called \"Intent_2007_onwards\" and move the extracted files named 20XX to that new folder')"
      ],
      "execution_count": null,
      "outputs": [
        {
          "output_type": "stream",
          "text": [
            "Done, Right click and refresh file area.Create a new folder called \"Intent_2007_onwards\" and move the extracted files named 20XX to that new folder\n"
          ],
          "name": "stdout"
        }
      ]
    },
    {
      "cell_type": "code",
      "metadata": {
        "colab": {
          "base_uri": "https://localhost:8080/"
        },
        "id": "obI8Jdi2Tor5",
        "outputId": "43b79bc8-01fe-47c5-a0d8-d63d7ea99264"
      },
      "source": [
        "root=r\"/content/Consent_2007_onwards\"\n",
        "# destination=\"/tmp\"\n",
        "folder1=os.listdir(root)\n",
        "df=pd.DataFrame()\n",
        "for fol1 in folder1:\n",
        "    print(fol1)\n",
        "    print('----------------------')\n",
        "    f1root=mnrt(root,fol1)\n",
        "    folder2=os.listdir(f1root)\n",
        "    for fol2 in folder2:\n",
        "        f2root=mnrt(f1root,fol2)\n",
        "        folder3=os.listdir(f2root)\n",
        "        i=0\n",
        "        for fol3 in folder3[:-1]:\n",
        "            f3root=mnrt(f2root,fol3)\n",
        "            df1=pd.read_csv(f3root)\n",
        "            df1['date']=pd.to_datetime(fol2.split('.')[-1], infer_datetime_format=True)\n",
        "            if 'Male' in fol3:\n",
        "                df1['sex']='Male'           \n",
        "            elif 'Female' in fol3:\n",
        "                df1['sex']='Female'\n",
        "            df=pd.concat([df,df1])"
      ],
      "execution_count": null,
      "outputs": [
        {
          "output_type": "stream",
          "text": [
            "2010\n",
            "----------------------\n",
            "2014\n",
            "----------------------\n",
            "2015\n",
            "----------------------\n",
            "2007\n",
            "----------------------\n",
            "2012\n",
            "----------------------\n",
            "2013\n",
            "----------------------\n",
            "2009\n",
            "----------------------\n",
            "2011\n",
            "----------------------\n",
            "2008\n",
            "----------------------\n",
            "2016\n",
            "----------------------\n"
          ],
          "name": "stdout"
        }
      ]
    },
    {
      "cell_type": "code",
      "metadata": {
        "colab": {
          "base_uri": "https://localhost:8080/",
          "height": 365
        },
        "id": "pe--ACDjUT_C",
        "outputId": "823fa4b6-3dbf-4860-feea-d1b4ca0b26be"
      },
      "source": [
        "df.head()"
      ],
      "execution_count": null,
      "outputs": [
        {
          "output_type": "execute_result",
          "data": {
            "text/html": [
              "<div>\n",
              "<style scoped>\n",
              "    .dataframe tbody tr th:only-of-type {\n",
              "        vertical-align: middle;\n",
              "    }\n",
              "\n",
              "    .dataframe tbody tr th {\n",
              "        vertical-align: top;\n",
              "    }\n",
              "\n",
              "    .dataframe thead th {\n",
              "        text-align: right;\n",
              "    }\n",
              "</style>\n",
              "<table border=\"1\" class=\"dataframe\">\n",
              "  <thead>\n",
              "    <tr style=\"text-align: right;\">\n",
              "      <th></th>\n",
              "      <th>STATE</th>\n",
              "      <th>16-17</th>\n",
              "      <th>18-24</th>\n",
              "      <th>25-34</th>\n",
              "      <th>35-44</th>\n",
              "      <th>45-54</th>\n",
              "      <th>55-64</th>\n",
              "      <th>65+</th>\n",
              "      <th>Total</th>\n",
              "      <th>% of ABS Estimated Population</th>\n",
              "      <th>date</th>\n",
              "      <th>sex</th>\n",
              "      <th>Total Legally Valid Consent Registrations (Including Intent Registrations of 16 &amp; 17 year olds)</th>\n",
              "      <th>State % of Legally Valid Consent Registrations (Including Intent Registrations of 16 &amp; 17 year olds)</th>\n",
              "      <th>% Variance from previous month</th>\n",
              "      <th>State</th>\n",
              "      <th>% of ABS Estimated Population as at 30/06/2011</th>\n",
              "      <th>Unnamed: 10</th>\n",
              "      <th>Unnamed: 11</th>\n",
              "      <th>Unnamed: 4</th>\n",
              "      <th>Unnamed: 5</th>\n",
              "    </tr>\n",
              "  </thead>\n",
              "  <tbody>\n",
              "    <tr>\n",
              "      <th>0</th>\n",
              "      <td>NSW</td>\n",
              "      <td>164.0</td>\n",
              "      <td>10323.0</td>\n",
              "      <td>26935.0</td>\n",
              "      <td>34462.0</td>\n",
              "      <td>32798.0</td>\n",
              "      <td>35428.0</td>\n",
              "      <td>40640.0</td>\n",
              "      <td>180750</td>\n",
              "      <td>6.29%</td>\n",
              "      <td>2010-01-01</td>\n",
              "      <td>Female</td>\n",
              "      <td>NaN</td>\n",
              "      <td>NaN</td>\n",
              "      <td>NaN</td>\n",
              "      <td>NaN</td>\n",
              "      <td>NaN</td>\n",
              "      <td>NaN</td>\n",
              "      <td>NaN</td>\n",
              "      <td>NaN</td>\n",
              "      <td>NaN</td>\n",
              "    </tr>\n",
              "    <tr>\n",
              "      <th>1</th>\n",
              "      <td>VIC</td>\n",
              "      <td>320.0</td>\n",
              "      <td>21776.0</td>\n",
              "      <td>43034.0</td>\n",
              "      <td>42255.0</td>\n",
              "      <td>33729.0</td>\n",
              "      <td>30000.0</td>\n",
              "      <td>27665.0</td>\n",
              "      <td>198779</td>\n",
              "      <td>9.01%</td>\n",
              "      <td>2010-01-01</td>\n",
              "      <td>Female</td>\n",
              "      <td>NaN</td>\n",
              "      <td>NaN</td>\n",
              "      <td>NaN</td>\n",
              "      <td>NaN</td>\n",
              "      <td>NaN</td>\n",
              "      <td>NaN</td>\n",
              "      <td>NaN</td>\n",
              "      <td>NaN</td>\n",
              "      <td>NaN</td>\n",
              "    </tr>\n",
              "    <tr>\n",
              "      <th>2</th>\n",
              "      <td>QLD</td>\n",
              "      <td>370.0</td>\n",
              "      <td>15588.0</td>\n",
              "      <td>31794.0</td>\n",
              "      <td>35295.0</td>\n",
              "      <td>33545.0</td>\n",
              "      <td>31558.0</td>\n",
              "      <td>27527.0</td>\n",
              "      <td>175677</td>\n",
              "      <td>10.09%</td>\n",
              "      <td>2010-01-01</td>\n",
              "      <td>Female</td>\n",
              "      <td>NaN</td>\n",
              "      <td>NaN</td>\n",
              "      <td>NaN</td>\n",
              "      <td>NaN</td>\n",
              "      <td>NaN</td>\n",
              "      <td>NaN</td>\n",
              "      <td>NaN</td>\n",
              "      <td>NaN</td>\n",
              "      <td>NaN</td>\n",
              "    </tr>\n",
              "    <tr>\n",
              "      <th>3</th>\n",
              "      <td>SA</td>\n",
              "      <td>1813.0</td>\n",
              "      <td>11015.0</td>\n",
              "      <td>11964.0</td>\n",
              "      <td>13492.0</td>\n",
              "      <td>13400.0</td>\n",
              "      <td>13926.0</td>\n",
              "      <td>14788.0</td>\n",
              "      <td>80398</td>\n",
              "      <td>12.04%</td>\n",
              "      <td>2010-01-01</td>\n",
              "      <td>Female</td>\n",
              "      <td>NaN</td>\n",
              "      <td>NaN</td>\n",
              "      <td>NaN</td>\n",
              "      <td>NaN</td>\n",
              "      <td>NaN</td>\n",
              "      <td>NaN</td>\n",
              "      <td>NaN</td>\n",
              "      <td>NaN</td>\n",
              "      <td>NaN</td>\n",
              "    </tr>\n",
              "    <tr>\n",
              "      <th>4</th>\n",
              "      <td>WA</td>\n",
              "      <td>199.0</td>\n",
              "      <td>15605.0</td>\n",
              "      <td>27100.0</td>\n",
              "      <td>27386.0</td>\n",
              "      <td>24822.0</td>\n",
              "      <td>21149.0</td>\n",
              "      <td>17720.0</td>\n",
              "      <td>133981</td>\n",
              "      <td>15.32%</td>\n",
              "      <td>2010-01-01</td>\n",
              "      <td>Female</td>\n",
              "      <td>NaN</td>\n",
              "      <td>NaN</td>\n",
              "      <td>NaN</td>\n",
              "      <td>NaN</td>\n",
              "      <td>NaN</td>\n",
              "      <td>NaN</td>\n",
              "      <td>NaN</td>\n",
              "      <td>NaN</td>\n",
              "      <td>NaN</td>\n",
              "    </tr>\n",
              "  </tbody>\n",
              "</table>\n",
              "</div>"
            ],
            "text/plain": [
              "  STATE   16-17    18-24  ...  Unnamed: 11  Unnamed: 4  Unnamed: 5\n",
              "0   NSW   164.0  10323.0  ...          NaN         NaN         NaN\n",
              "1   VIC   320.0  21776.0  ...          NaN         NaN         NaN\n",
              "2   QLD   370.0  15588.0  ...          NaN         NaN         NaN\n",
              "3    SA  1813.0  11015.0  ...          NaN         NaN         NaN\n",
              "4    WA   199.0  15605.0  ...          NaN         NaN         NaN\n",
              "\n",
              "[5 rows x 21 columns]"
            ]
          },
          "metadata": {
            "tags": []
          },
          "execution_count": 6
        }
      ]
    },
    {
      "cell_type": "code",
      "metadata": {
        "colab": {
          "base_uri": "https://localhost:8080/",
          "height": 206
        },
        "id": "9jCdhWHeUZ9v",
        "outputId": "4be3b3e2-ae1f-491e-abe0-7d1dd844adc4"
      },
      "source": [
        "df=df[['STATE', '18-24', '25-34', '35-44', '45-54', '55-64', '65+', 'Total',\n",
        "       '% of ABS Estimated Population', 'date', 'sex']].dropna()\n",
        "df.head()"
      ],
      "execution_count": null,
      "outputs": [
        {
          "output_type": "execute_result",
          "data": {
            "text/html": [
              "<div>\n",
              "<style scoped>\n",
              "    .dataframe tbody tr th:only-of-type {\n",
              "        vertical-align: middle;\n",
              "    }\n",
              "\n",
              "    .dataframe tbody tr th {\n",
              "        vertical-align: top;\n",
              "    }\n",
              "\n",
              "    .dataframe thead th {\n",
              "        text-align: right;\n",
              "    }\n",
              "</style>\n",
              "<table border=\"1\" class=\"dataframe\">\n",
              "  <thead>\n",
              "    <tr style=\"text-align: right;\">\n",
              "      <th></th>\n",
              "      <th>STATE</th>\n",
              "      <th>18-24</th>\n",
              "      <th>25-34</th>\n",
              "      <th>35-44</th>\n",
              "      <th>45-54</th>\n",
              "      <th>55-64</th>\n",
              "      <th>65+</th>\n",
              "      <th>Total</th>\n",
              "      <th>% of ABS Estimated Population</th>\n",
              "      <th>date</th>\n",
              "      <th>sex</th>\n",
              "    </tr>\n",
              "  </thead>\n",
              "  <tbody>\n",
              "    <tr>\n",
              "      <th>0</th>\n",
              "      <td>NSW</td>\n",
              "      <td>10323.0</td>\n",
              "      <td>26935.0</td>\n",
              "      <td>34462.0</td>\n",
              "      <td>32798.0</td>\n",
              "      <td>35428.0</td>\n",
              "      <td>40640.0</td>\n",
              "      <td>180750</td>\n",
              "      <td>6.29%</td>\n",
              "      <td>2010-01-01</td>\n",
              "      <td>Female</td>\n",
              "    </tr>\n",
              "    <tr>\n",
              "      <th>1</th>\n",
              "      <td>VIC</td>\n",
              "      <td>21776.0</td>\n",
              "      <td>43034.0</td>\n",
              "      <td>42255.0</td>\n",
              "      <td>33729.0</td>\n",
              "      <td>30000.0</td>\n",
              "      <td>27665.0</td>\n",
              "      <td>198779</td>\n",
              "      <td>9.01%</td>\n",
              "      <td>2010-01-01</td>\n",
              "      <td>Female</td>\n",
              "    </tr>\n",
              "    <tr>\n",
              "      <th>2</th>\n",
              "      <td>QLD</td>\n",
              "      <td>15588.0</td>\n",
              "      <td>31794.0</td>\n",
              "      <td>35295.0</td>\n",
              "      <td>33545.0</td>\n",
              "      <td>31558.0</td>\n",
              "      <td>27527.0</td>\n",
              "      <td>175677</td>\n",
              "      <td>10.09%</td>\n",
              "      <td>2010-01-01</td>\n",
              "      <td>Female</td>\n",
              "    </tr>\n",
              "    <tr>\n",
              "      <th>3</th>\n",
              "      <td>SA</td>\n",
              "      <td>11015.0</td>\n",
              "      <td>11964.0</td>\n",
              "      <td>13492.0</td>\n",
              "      <td>13400.0</td>\n",
              "      <td>13926.0</td>\n",
              "      <td>14788.0</td>\n",
              "      <td>80398</td>\n",
              "      <td>12.04%</td>\n",
              "      <td>2010-01-01</td>\n",
              "      <td>Female</td>\n",
              "    </tr>\n",
              "    <tr>\n",
              "      <th>4</th>\n",
              "      <td>WA</td>\n",
              "      <td>15605.0</td>\n",
              "      <td>27100.0</td>\n",
              "      <td>27386.0</td>\n",
              "      <td>24822.0</td>\n",
              "      <td>21149.0</td>\n",
              "      <td>17720.0</td>\n",
              "      <td>133981</td>\n",
              "      <td>15.32%</td>\n",
              "      <td>2010-01-01</td>\n",
              "      <td>Female</td>\n",
              "    </tr>\n",
              "  </tbody>\n",
              "</table>\n",
              "</div>"
            ],
            "text/plain": [
              "  STATE    18-24    25-34  ...  % of ABS Estimated Population       date     sex\n",
              "0   NSW  10323.0  26935.0  ...                          6.29% 2010-01-01  Female\n",
              "1   VIC  21776.0  43034.0  ...                          9.01% 2010-01-01  Female\n",
              "2   QLD  15588.0  31794.0  ...                         10.09% 2010-01-01  Female\n",
              "3    SA  11015.0  11964.0  ...                         12.04% 2010-01-01  Female\n",
              "4    WA  15605.0  27100.0  ...                         15.32% 2010-01-01  Female\n",
              "\n",
              "[5 rows x 11 columns]"
            ]
          },
          "metadata": {
            "tags": []
          },
          "execution_count": 7
        }
      ]
    },
    {
      "cell_type": "code",
      "metadata": {
        "id": "4c2_wIP-Ue9U"
      },
      "source": [
        "df['% of ABS Estimated Population'] = df['% of ABS Estimated Population'].str.replace('%',\"\")\n",
        "df['% of ABS Estimated Population'] = df['% of ABS Estimated Population'].astype(float)"
      ],
      "execution_count": null,
      "outputs": []
    },
    {
      "cell_type": "code",
      "metadata": {
        "colab": {
          "base_uri": "https://localhost:8080/",
          "height": 542
        },
        "id": "eq-wHI7fUf51",
        "outputId": "a374ee2a-b578-42cb-eb0f-17d9d93d360f"
      },
      "source": [
        "px.scatter(df[(df.STATE=='TOTAL')&(df.sex=='Female')],x='date',y='Total')"
      ],
      "execution_count": null,
      "outputs": [
        {
          "output_type": "display_data",
          "data": {
            "text/html": [
              "<html>\n",
              "<head><meta charset=\"utf-8\" /></head>\n",
              "<body>\n",
              "    <div>\n",
              "            <script src=\"https://cdnjs.cloudflare.com/ajax/libs/mathjax/2.7.5/MathJax.js?config=TeX-AMS-MML_SVG\"></script><script type=\"text/javascript\">if (window.MathJax) {MathJax.Hub.Config({SVG: {font: \"STIX-Web\"}});}</script>\n",
              "                <script type=\"text/javascript\">window.PlotlyConfig = {MathJaxConfig: 'local'};</script>\n",
              "        <script src=\"https://cdn.plot.ly/plotly-latest.min.js\"></script>    \n",
              "            <div id=\"957ecf5c-570f-46d7-b3c3-a4f2b5ae9ae4\" class=\"plotly-graph-div\" style=\"height:525px; width:100%;\"></div>\n",
              "            <script type=\"text/javascript\">\n",
              "                \n",
              "                    window.PLOTLYENV=window.PLOTLYENV || {};\n",
              "                    \n",
              "                if (document.getElementById(\"957ecf5c-570f-46d7-b3c3-a4f2b5ae9ae4\")) {\n",
              "                    Plotly.newPlot(\n",
              "                        '957ecf5c-570f-46d7-b3c3-a4f2b5ae9ae4',\n",
              "                        [{\"hoverlabel\": {\"namelength\": 0}, \"hovertemplate\": \"date=%{x}<br>Total=%{y}\", \"legendgroup\": \"\", \"marker\": {\"color\": \"#636efa\", \"symbol\": \"circle\"}, \"mode\": \"markers\", \"name\": \"\", \"showlegend\": false, \"type\": \"scatter\", \"x\": [\"2010-01-01T00:00:00\", \"2010-10-01T00:00:00\", \"2010-02-01T00:00:00\", \"2010-07-01T00:00:00\", \"2010-05-01T00:00:00\", \"2010-04-01T00:00:00\", \"2010-06-01T00:00:00\", \"2010-03-01T00:00:00\", \"2010-12-01T00:00:00\", \"2014-05-01T00:00:00\", \"2014-03-01T00:00:00\", \"2014-04-01T00:00:00\", \"2014-02-01T00:00:00\", \"2014-08-01T00:00:00\", \"2014-10-01T00:00:00\", \"2014-11-01T00:00:00\", \"2014-01-01T00:00:00\", \"2014-06-01T00:00:00\", \"2014-12-01T00:00:00\", \"2015-03-01T00:00:00\", \"2015-10-01T00:00:00\", \"2015-01-01T00:00:00\", \"2015-02-01T00:00:00\", \"2007-09-01T00:00:00\", \"2007-08-01T00:00:00\", \"2007-06-01T00:00:00\", \"2007-12-01T00:00:00\", \"2007-04-01T00:00:00\", \"2007-10-01T00:00:00\", \"2007-01-01T00:00:00\", \"2012-10-01T00:00:00\", \"2012-12-01T00:00:00\", \"2012-01-01T00:00:00\", \"2012-09-01T00:00:00\", \"2012-04-01T00:00:00\", \"2012-08-01T00:00:00\", \"2012-02-01T00:00:00\", \"2012-06-01T00:00:00\", \"2013-11-01T00:00:00\", \"2013-02-01T00:00:00\", \"2013-10-01T00:00:00\", \"2013-07-01T00:00:00\", \"2013-01-01T00:00:00\", \"2009-08-01T00:00:00\", \"2009-11-01T00:00:00\", \"2009-06-01T00:00:00\", \"2009-04-01T00:00:00\", \"2009-01-01T00:00:00\", \"2011-09-01T00:00:00\", \"2011-12-01T00:00:00\", \"2011-11-01T00:00:00\", \"2011-02-01T00:00:00\", \"2011-10-01T00:00:00\", \"2011-07-01T00:00:00\", \"2011-01-01T00:00:00\", \"2011-06-01T00:00:00\", \"2008-09-01T00:00:00\", \"2008-07-01T00:00:00\", \"2008-06-01T00:00:00\", \"2008-11-01T00:00:00\", \"2008-01-01T00:00:00\", \"2008-05-01T00:00:00\", \"2008-12-01T00:00:00\"], \"xaxis\": \"x\", \"y\": [818206.0, 871677.0, 824259.0, 856689.0, 843823.0, 838518.0, 849284.0, 832944.0, 881307.0, 1081931.0, 1072869.0, 1077914.0, 1066906.0, 1093454.0, 1103109.0, 1107794.0, 1061598.0, 1085522.0, 1111394.0, 1122224.0, 1154944.0, 1114616.0, \"1118125\", 582606, 576017, 562007, 611693, 10, 591793, 504530, 995079, 1002888, 1002888, 990133, 965442, 985757, 954845, 976075, \"1056170\", 1010810, 1052878, 1036510, 1058855, 789475, 808975, 778368, 768005, 746260, 933401, 945269, 942068, 893129, 938032, 923947, 887574, 917659, 719957, 703702, 692980, 735277, 619780, 681168, 739871], \"yaxis\": \"y\"}],\n",
              "                        {\"legend\": {\"tracegroupgap\": 0}, \"margin\": {\"t\": 60}, \"template\": {\"data\": {\"bar\": [{\"error_x\": {\"color\": \"#2a3f5f\"}, \"error_y\": {\"color\": \"#2a3f5f\"}, \"marker\": {\"line\": {\"color\": \"#E5ECF6\", \"width\": 0.5}}, \"type\": \"bar\"}], \"barpolar\": [{\"marker\": {\"line\": {\"color\": \"#E5ECF6\", \"width\": 0.5}}, \"type\": \"barpolar\"}], \"carpet\": [{\"aaxis\": {\"endlinecolor\": \"#2a3f5f\", \"gridcolor\": \"white\", \"linecolor\": \"white\", \"minorgridcolor\": \"white\", \"startlinecolor\": \"#2a3f5f\"}, \"baxis\": {\"endlinecolor\": \"#2a3f5f\", \"gridcolor\": \"white\", \"linecolor\": \"white\", \"minorgridcolor\": \"white\", \"startlinecolor\": \"#2a3f5f\"}, \"type\": \"carpet\"}], \"choropleth\": [{\"colorbar\": {\"outlinewidth\": 0, \"ticks\": \"\"}, \"type\": \"choropleth\"}], \"contour\": [{\"colorbar\": {\"outlinewidth\": 0, \"ticks\": \"\"}, \"colorscale\": [[0.0, \"#0d0887\"], [0.1111111111111111, \"#46039f\"], [0.2222222222222222, \"#7201a8\"], [0.3333333333333333, \"#9c179e\"], [0.4444444444444444, \"#bd3786\"], [0.5555555555555556, \"#d8576b\"], [0.6666666666666666, \"#ed7953\"], [0.7777777777777778, \"#fb9f3a\"], [0.8888888888888888, \"#fdca26\"], [1.0, \"#f0f921\"]], \"type\": \"contour\"}], \"contourcarpet\": [{\"colorbar\": {\"outlinewidth\": 0, \"ticks\": \"\"}, \"type\": \"contourcarpet\"}], \"heatmap\": [{\"colorbar\": {\"outlinewidth\": 0, \"ticks\": \"\"}, \"colorscale\": [[0.0, \"#0d0887\"], [0.1111111111111111, \"#46039f\"], [0.2222222222222222, \"#7201a8\"], [0.3333333333333333, \"#9c179e\"], [0.4444444444444444, \"#bd3786\"], [0.5555555555555556, \"#d8576b\"], [0.6666666666666666, \"#ed7953\"], [0.7777777777777778, \"#fb9f3a\"], [0.8888888888888888, \"#fdca26\"], [1.0, \"#f0f921\"]], \"type\": \"heatmap\"}], \"heatmapgl\": [{\"colorbar\": {\"outlinewidth\": 0, \"ticks\": \"\"}, \"colorscale\": [[0.0, \"#0d0887\"], [0.1111111111111111, \"#46039f\"], [0.2222222222222222, \"#7201a8\"], [0.3333333333333333, \"#9c179e\"], [0.4444444444444444, \"#bd3786\"], [0.5555555555555556, \"#d8576b\"], [0.6666666666666666, \"#ed7953\"], [0.7777777777777778, \"#fb9f3a\"], [0.8888888888888888, \"#fdca26\"], [1.0, \"#f0f921\"]], \"type\": \"heatmapgl\"}], \"histogram\": [{\"marker\": {\"colorbar\": {\"outlinewidth\": 0, \"ticks\": \"\"}}, \"type\": \"histogram\"}], \"histogram2d\": [{\"colorbar\": {\"outlinewidth\": 0, \"ticks\": \"\"}, \"colorscale\": [[0.0, \"#0d0887\"], [0.1111111111111111, \"#46039f\"], [0.2222222222222222, \"#7201a8\"], [0.3333333333333333, \"#9c179e\"], [0.4444444444444444, \"#bd3786\"], [0.5555555555555556, \"#d8576b\"], [0.6666666666666666, \"#ed7953\"], [0.7777777777777778, \"#fb9f3a\"], [0.8888888888888888, \"#fdca26\"], [1.0, \"#f0f921\"]], \"type\": \"histogram2d\"}], \"histogram2dcontour\": [{\"colorbar\": {\"outlinewidth\": 0, \"ticks\": \"\"}, \"colorscale\": [[0.0, \"#0d0887\"], [0.1111111111111111, \"#46039f\"], [0.2222222222222222, \"#7201a8\"], [0.3333333333333333, \"#9c179e\"], [0.4444444444444444, \"#bd3786\"], [0.5555555555555556, \"#d8576b\"], [0.6666666666666666, \"#ed7953\"], [0.7777777777777778, \"#fb9f3a\"], [0.8888888888888888, \"#fdca26\"], [1.0, \"#f0f921\"]], \"type\": \"histogram2dcontour\"}], \"mesh3d\": [{\"colorbar\": {\"outlinewidth\": 0, \"ticks\": \"\"}, \"type\": \"mesh3d\"}], \"parcoords\": [{\"line\": {\"colorbar\": {\"outlinewidth\": 0, \"ticks\": \"\"}}, \"type\": \"parcoords\"}], \"pie\": [{\"automargin\": true, \"type\": \"pie\"}], \"scatter\": [{\"marker\": {\"colorbar\": {\"outlinewidth\": 0, \"ticks\": \"\"}}, \"type\": \"scatter\"}], \"scatter3d\": [{\"line\": {\"colorbar\": {\"outlinewidth\": 0, \"ticks\": \"\"}}, \"marker\": {\"colorbar\": {\"outlinewidth\": 0, \"ticks\": \"\"}}, \"type\": \"scatter3d\"}], \"scattercarpet\": [{\"marker\": {\"colorbar\": {\"outlinewidth\": 0, \"ticks\": \"\"}}, \"type\": \"scattercarpet\"}], \"scattergeo\": [{\"marker\": {\"colorbar\": {\"outlinewidth\": 0, \"ticks\": \"\"}}, \"type\": \"scattergeo\"}], \"scattergl\": [{\"marker\": {\"colorbar\": {\"outlinewidth\": 0, \"ticks\": \"\"}}, \"type\": \"scattergl\"}], \"scattermapbox\": [{\"marker\": {\"colorbar\": {\"outlinewidth\": 0, \"ticks\": \"\"}}, \"type\": \"scattermapbox\"}], \"scatterpolar\": [{\"marker\": {\"colorbar\": {\"outlinewidth\": 0, \"ticks\": \"\"}}, \"type\": \"scatterpolar\"}], \"scatterpolargl\": [{\"marker\": {\"colorbar\": {\"outlinewidth\": 0, \"ticks\": \"\"}}, \"type\": \"scatterpolargl\"}], \"scatterternary\": [{\"marker\": {\"colorbar\": {\"outlinewidth\": 0, \"ticks\": \"\"}}, \"type\": \"scatterternary\"}], \"surface\": [{\"colorbar\": {\"outlinewidth\": 0, \"ticks\": \"\"}, \"colorscale\": [[0.0, \"#0d0887\"], [0.1111111111111111, \"#46039f\"], [0.2222222222222222, \"#7201a8\"], [0.3333333333333333, \"#9c179e\"], [0.4444444444444444, \"#bd3786\"], [0.5555555555555556, \"#d8576b\"], [0.6666666666666666, \"#ed7953\"], [0.7777777777777778, \"#fb9f3a\"], [0.8888888888888888, \"#fdca26\"], [1.0, \"#f0f921\"]], \"type\": \"surface\"}], \"table\": [{\"cells\": {\"fill\": {\"color\": \"#EBF0F8\"}, \"line\": {\"color\": \"white\"}}, \"header\": {\"fill\": {\"color\": \"#C8D4E3\"}, \"line\": {\"color\": \"white\"}}, \"type\": \"table\"}]}, \"layout\": {\"annotationdefaults\": {\"arrowcolor\": \"#2a3f5f\", \"arrowhead\": 0, \"arrowwidth\": 1}, \"coloraxis\": {\"colorbar\": {\"outlinewidth\": 0, \"ticks\": \"\"}}, \"colorscale\": {\"diverging\": [[0, \"#8e0152\"], [0.1, \"#c51b7d\"], [0.2, \"#de77ae\"], [0.3, \"#f1b6da\"], [0.4, \"#fde0ef\"], [0.5, \"#f7f7f7\"], [0.6, \"#e6f5d0\"], [0.7, \"#b8e186\"], [0.8, \"#7fbc41\"], [0.9, \"#4d9221\"], [1, \"#276419\"]], \"sequential\": [[0.0, \"#0d0887\"], [0.1111111111111111, \"#46039f\"], [0.2222222222222222, \"#7201a8\"], [0.3333333333333333, \"#9c179e\"], [0.4444444444444444, \"#bd3786\"], [0.5555555555555556, \"#d8576b\"], [0.6666666666666666, \"#ed7953\"], [0.7777777777777778, \"#fb9f3a\"], [0.8888888888888888, \"#fdca26\"], [1.0, \"#f0f921\"]], \"sequentialminus\": [[0.0, \"#0d0887\"], [0.1111111111111111, \"#46039f\"], [0.2222222222222222, \"#7201a8\"], [0.3333333333333333, \"#9c179e\"], [0.4444444444444444, \"#bd3786\"], [0.5555555555555556, \"#d8576b\"], [0.6666666666666666, \"#ed7953\"], [0.7777777777777778, \"#fb9f3a\"], [0.8888888888888888, \"#fdca26\"], [1.0, \"#f0f921\"]]}, \"colorway\": [\"#636efa\", \"#EF553B\", \"#00cc96\", \"#ab63fa\", \"#FFA15A\", \"#19d3f3\", \"#FF6692\", \"#B6E880\", \"#FF97FF\", \"#FECB52\"], \"font\": {\"color\": \"#2a3f5f\"}, \"geo\": {\"bgcolor\": \"white\", \"lakecolor\": \"white\", \"landcolor\": \"#E5ECF6\", \"showlakes\": true, \"showland\": true, \"subunitcolor\": \"white\"}, \"hoverlabel\": {\"align\": \"left\"}, \"hovermode\": \"closest\", \"mapbox\": {\"style\": \"light\"}, \"paper_bgcolor\": \"white\", \"plot_bgcolor\": \"#E5ECF6\", \"polar\": {\"angularaxis\": {\"gridcolor\": \"white\", \"linecolor\": \"white\", \"ticks\": \"\"}, \"bgcolor\": \"#E5ECF6\", \"radialaxis\": {\"gridcolor\": \"white\", \"linecolor\": \"white\", \"ticks\": \"\"}}, \"scene\": {\"xaxis\": {\"backgroundcolor\": \"#E5ECF6\", \"gridcolor\": \"white\", \"gridwidth\": 2, \"linecolor\": \"white\", \"showbackground\": true, \"ticks\": \"\", \"zerolinecolor\": \"white\"}, \"yaxis\": {\"backgroundcolor\": \"#E5ECF6\", \"gridcolor\": \"white\", \"gridwidth\": 2, \"linecolor\": \"white\", \"showbackground\": true, \"ticks\": \"\", \"zerolinecolor\": \"white\"}, \"zaxis\": {\"backgroundcolor\": \"#E5ECF6\", \"gridcolor\": \"white\", \"gridwidth\": 2, \"linecolor\": \"white\", \"showbackground\": true, \"ticks\": \"\", \"zerolinecolor\": \"white\"}}, \"shapedefaults\": {\"line\": {\"color\": \"#2a3f5f\"}}, \"ternary\": {\"aaxis\": {\"gridcolor\": \"white\", \"linecolor\": \"white\", \"ticks\": \"\"}, \"baxis\": {\"gridcolor\": \"white\", \"linecolor\": \"white\", \"ticks\": \"\"}, \"bgcolor\": \"#E5ECF6\", \"caxis\": {\"gridcolor\": \"white\", \"linecolor\": \"white\", \"ticks\": \"\"}}, \"title\": {\"x\": 0.05}, \"xaxis\": {\"automargin\": true, \"gridcolor\": \"white\", \"linecolor\": \"white\", \"ticks\": \"\", \"title\": {\"standoff\": 15}, \"zerolinecolor\": \"white\", \"zerolinewidth\": 2}, \"yaxis\": {\"automargin\": true, \"gridcolor\": \"white\", \"linecolor\": \"white\", \"ticks\": \"\", \"title\": {\"standoff\": 15}, \"zerolinecolor\": \"white\", \"zerolinewidth\": 2}}}, \"xaxis\": {\"anchor\": \"y\", \"domain\": [0.0, 1.0], \"title\": {\"text\": \"date\"}}, \"yaxis\": {\"anchor\": \"x\", \"domain\": [0.0, 1.0], \"title\": {\"text\": \"Total\"}}},\n",
              "                        {\"responsive\": true}\n",
              "                    ).then(function(){\n",
              "                            \n",
              "var gd = document.getElementById('957ecf5c-570f-46d7-b3c3-a4f2b5ae9ae4');\n",
              "var x = new MutationObserver(function (mutations, observer) {{\n",
              "        var display = window.getComputedStyle(gd).display;\n",
              "        if (!display || display === 'none') {{\n",
              "            console.log([gd, 'removed!']);\n",
              "            Plotly.purge(gd);\n",
              "            observer.disconnect();\n",
              "        }}\n",
              "}});\n",
              "\n",
              "// Listen for the removal of the full notebook cells\n",
              "var notebookContainer = gd.closest('#notebook-container');\n",
              "if (notebookContainer) {{\n",
              "    x.observe(notebookContainer, {childList: true});\n",
              "}}\n",
              "\n",
              "// Listen for the clearing of the current output cell\n",
              "var outputEl = gd.closest('.output');\n",
              "if (outputEl) {{\n",
              "    x.observe(outputEl, {childList: true});\n",
              "}}\n",
              "\n",
              "                        })\n",
              "                };\n",
              "                \n",
              "            </script>\n",
              "        </div>\n",
              "</body>\n",
              "</html>"
            ]
          },
          "metadata": {
            "tags": []
          }
        }
      ]
    },
    {
      "cell_type": "code",
      "metadata": {
        "colab": {
          "base_uri": "https://localhost:8080/",
          "height": 542
        },
        "id": "o04wWm3SUjrK",
        "outputId": "dc649567-79e2-4695-8d5b-5e43d02efccd"
      },
      "source": [
        "px.scatter(df[df.STATE=='NSW'],x='date',y='35-44',color='sex')\n",
        "#group by wrt to date aggregate by date"
      ],
      "execution_count": null,
      "outputs": [
        {
          "output_type": "display_data",
          "data": {
            "text/html": [
              "<html>\n",
              "<head><meta charset=\"utf-8\" /></head>\n",
              "<body>\n",
              "    <div>\n",
              "            <script src=\"https://cdnjs.cloudflare.com/ajax/libs/mathjax/2.7.5/MathJax.js?config=TeX-AMS-MML_SVG\"></script><script type=\"text/javascript\">if (window.MathJax) {MathJax.Hub.Config({SVG: {font: \"STIX-Web\"}});}</script>\n",
              "                <script type=\"text/javascript\">window.PlotlyConfig = {MathJaxConfig: 'local'};</script>\n",
              "        <script src=\"https://cdn.plot.ly/plotly-latest.min.js\"></script>    \n",
              "            <div id=\"0b05cbd0-05ca-4436-b647-c911ed101b4a\" class=\"plotly-graph-div\" style=\"height:525px; width:100%;\"></div>\n",
              "            <script type=\"text/javascript\">\n",
              "                \n",
              "                    window.PLOTLYENV=window.PLOTLYENV || {};\n",
              "                    \n",
              "                if (document.getElementById(\"0b05cbd0-05ca-4436-b647-c911ed101b4a\")) {\n",
              "                    Plotly.newPlot(\n",
              "                        '0b05cbd0-05ca-4436-b647-c911ed101b4a',\n",
              "                        [{\"hoverlabel\": {\"namelength\": 0}, \"hovertemplate\": \"sex=Female<br>date=%{x}<br>35-44=%{y}\", \"legendgroup\": \"sex=Female\", \"marker\": {\"color\": \"#636efa\", \"symbol\": \"circle\"}, \"mode\": \"markers\", \"name\": \"sex=Female\", \"showlegend\": true, \"type\": \"scatter\", \"x\": [\"2010-01-01T00:00:00\", \"2010-10-01T00:00:00\", \"2010-02-01T00:00:00\", \"2010-07-01T00:00:00\", \"2010-05-01T00:00:00\", \"2010-04-01T00:00:00\", \"2010-06-01T00:00:00\", \"2010-03-01T00:00:00\", \"2010-12-01T00:00:00\", \"2014-05-01T00:00:00\", \"2014-03-01T00:00:00\", \"2014-04-01T00:00:00\", \"2014-02-01T00:00:00\", \"2014-08-01T00:00:00\", \"2014-10-01T00:00:00\", \"2014-11-01T00:00:00\", \"2014-01-01T00:00:00\", \"2014-06-01T00:00:00\", \"2014-12-01T00:00:00\", \"2015-03-01T00:00:00\", \"2015-10-01T00:00:00\", \"2015-01-01T00:00:00\", \"2015-02-01T00:00:00\", \"2007-09-01T00:00:00\", \"2007-08-01T00:00:00\", \"2007-06-01T00:00:00\", \"2007-12-01T00:00:00\", \"2007-04-01T00:00:00\", \"2007-10-01T00:00:00\", \"2007-01-01T00:00:00\", \"2012-10-01T00:00:00\", \"2012-12-01T00:00:00\", \"2012-01-01T00:00:00\", \"2012-09-01T00:00:00\", \"2012-04-01T00:00:00\", \"2012-08-01T00:00:00\", \"2012-02-01T00:00:00\", \"2012-06-01T00:00:00\", \"2013-11-01T00:00:00\", \"2013-02-01T00:00:00\", \"2013-10-01T00:00:00\", \"2013-07-01T00:00:00\", \"2013-01-01T00:00:00\", \"2009-08-01T00:00:00\", \"2009-11-01T00:00:00\", \"2009-06-01T00:00:00\", \"2009-04-01T00:00:00\", \"2009-01-01T00:00:00\", \"2011-09-01T00:00:00\", \"2011-12-01T00:00:00\", \"2011-11-01T00:00:00\", \"2011-02-01T00:00:00\", \"2011-10-01T00:00:00\", \"2011-07-01T00:00:00\", \"2011-01-01T00:00:00\", \"2011-06-01T00:00:00\", \"2008-09-01T00:00:00\", \"2008-07-01T00:00:00\", \"2008-06-01T00:00:00\", \"2008-11-01T00:00:00\", \"2008-01-01T00:00:00\", \"2008-05-01T00:00:00\", \"2008-12-01T00:00:00\"], \"xaxis\": \"x\", \"y\": [34462.0, 36517.0, 34683.0, 35979.0, 35458.0, 35224.0, 35703.0, 35014.0, 36887.0, 45701.0, 45218.0, 45461.0, 44938.0, 46320.0, 46853.0, 47153.0, 44642.0, 45931.0, 47315.0, 47756.0, 49406.0, 47465.0, 47578.0, 29124.0, 26300.0, 24582.0, 30545.0, 23358.0, 29584.0, 22443.0, 40966.0, 41413.0, 41413.0, 40744.0, 39810.0, 40565.0, 39447.0, 40224.0, 44309.0, 41862.0, 44089.0, 43200.0, 44487.0, 33355.0, 34075.0, 32941.0, 32499.0, 31769.0, 38771.0, 39172.0, 39040.0, 37371.0, 38905.0, 38407.0, 37122.0, 38201.0, 34844.0, 34188.0, 33888.0, 31400.0, 30870.0, 33427.0, 31577.0], \"yaxis\": \"y\"}, {\"hoverlabel\": {\"namelength\": 0}, \"hovertemplate\": \"sex=Male<br>date=%{x}<br>35-44=%{y}\", \"legendgroup\": \"sex=Male\", \"marker\": {\"color\": \"#EF553B\", \"symbol\": \"circle\"}, \"mode\": \"markers\", \"name\": \"sex=Male\", \"showlegend\": true, \"type\": \"scatter\", \"x\": [\"2010-01-01T00:00:00\", \"2010-10-01T00:00:00\", \"2010-05-01T00:00:00\", \"2010-11-01T00:00:00\", \"2010-09-01T00:00:00\", \"2010-08-01T00:00:00\", \"2010-06-01T00:00:00\", \"2010-03-01T00:00:00\", \"2014-02-01T00:00:00\", \"2014-10-01T00:00:00\", \"2014-11-01T00:00:00\", \"2014-07-01T00:00:00\", \"2014-09-01T00:00:00\", \"2015-04-01T00:00:00\", \"2015-06-01T00:00:00\", \"2015-05-01T00:00:00\", \"2015-01-01T00:00:00\", \"2007-09-01T00:00:00\", \"2007-02-01T00:00:00\", \"2007-08-01T00:00:00\", \"2007-11-01T00:00:00\", \"2007-12-01T00:00:00\", \"2007-03-01T00:00:00\", \"2007-05-01T00:00:00\", \"2007-01-01T00:00:00\", \"2012-01-01T00:00:00\", \"2012-11-01T00:00:00\", \"2012-09-01T00:00:00\", \"2012-07-01T00:00:00\", \"2012-03-01T00:00:00\", \"2012-06-01T00:00:00\", \"2013-06-01T00:00:00\", \"2013-02-01T00:00:00\", \"2013-05-01T00:00:00\", \"2013-03-01T00:00:00\", \"2013-12-01T00:00:00\", \"2013-10-01T00:00:00\", \"2013-09-01T00:00:00\", \"2013-04-01T00:00:00\", \"2013-08-01T00:00:00\", \"2009-07-01T00:00:00\", \"2009-08-01T00:00:00\", \"2009-03-01T00:00:00\", \"2009-10-01T00:00:00\", \"2009-02-01T00:00:00\", \"2009-05-01T00:00:00\", \"2009-12-01T00:00:00\", \"2009-09-01T00:00:00\", \"2009-01-01T00:00:00\", \"2011-09-01T00:00:00\", \"2011-04-01T00:00:00\", \"2011-03-01T00:00:00\", \"2011-08-01T00:00:00\", \"2011-05-01T00:00:00\", \"2008-02-01T00:00:00\", \"2008-03-01T00:00:00\", \"2008-09-01T00:00:00\", \"2008-08-01T00:00:00\", \"2008-04-01T00:00:00\", \"2008-06-01T00:00:00\", \"2008-10-01T00:00:00\", \"2008-05-01T00:00:00\", \"2008-12-01T00:00:00\"], \"xaxis\": \"x\", \"y\": [20942.0, 21647.0, 21331.0, 21716.0, 21623.0, 21558.0, 21405.0, 21141.0, 24067.0, 24509.0, 24583.0, 24304.0, 24441.0, 24683.0, 24781.0, 24719.0, 24640.0, 18973.0, 15454.0, 17364.0, 19418.0, 19605.0, 15757.0, 16171.0, 15338.0, 22975.0, 22901.0, 22810.0, 22739.0, 22549.0, 22673.0, 23555.0, 23149.0, 23470.0, 23266.0, 23984.0, 23904.0, 23900.0, 23342.0, 23872.0, 20407.0, 20494.0, 20002.0, 20738.0, 19878.0, 20209.0, 20866.0, 20609.0, 19773.0, 22255.0, 22077.0, 22051.0, 22244.0, 22141.0, 20011.0, 20374.0, 21688.0, 21502.0, 20793.0, 21217.0, 19494.0, 20994.0, 19677.0], \"yaxis\": \"y\"}],\n",
              "                        {\"legend\": {\"tracegroupgap\": 0}, \"margin\": {\"t\": 60}, \"template\": {\"data\": {\"bar\": [{\"error_x\": {\"color\": \"#2a3f5f\"}, \"error_y\": {\"color\": \"#2a3f5f\"}, \"marker\": {\"line\": {\"color\": \"#E5ECF6\", \"width\": 0.5}}, \"type\": \"bar\"}], \"barpolar\": [{\"marker\": {\"line\": {\"color\": \"#E5ECF6\", \"width\": 0.5}}, \"type\": \"barpolar\"}], \"carpet\": [{\"aaxis\": {\"endlinecolor\": \"#2a3f5f\", \"gridcolor\": \"white\", \"linecolor\": \"white\", \"minorgridcolor\": \"white\", \"startlinecolor\": \"#2a3f5f\"}, \"baxis\": {\"endlinecolor\": \"#2a3f5f\", \"gridcolor\": \"white\", \"linecolor\": \"white\", \"minorgridcolor\": \"white\", \"startlinecolor\": \"#2a3f5f\"}, \"type\": \"carpet\"}], \"choropleth\": [{\"colorbar\": {\"outlinewidth\": 0, \"ticks\": \"\"}, \"type\": \"choropleth\"}], \"contour\": [{\"colorbar\": {\"outlinewidth\": 0, \"ticks\": \"\"}, \"colorscale\": [[0.0, \"#0d0887\"], [0.1111111111111111, \"#46039f\"], [0.2222222222222222, \"#7201a8\"], [0.3333333333333333, \"#9c179e\"], [0.4444444444444444, \"#bd3786\"], [0.5555555555555556, \"#d8576b\"], [0.6666666666666666, \"#ed7953\"], [0.7777777777777778, \"#fb9f3a\"], [0.8888888888888888, \"#fdca26\"], [1.0, \"#f0f921\"]], \"type\": \"contour\"}], \"contourcarpet\": [{\"colorbar\": {\"outlinewidth\": 0, \"ticks\": \"\"}, \"type\": \"contourcarpet\"}], \"heatmap\": [{\"colorbar\": {\"outlinewidth\": 0, \"ticks\": \"\"}, \"colorscale\": [[0.0, \"#0d0887\"], [0.1111111111111111, \"#46039f\"], [0.2222222222222222, \"#7201a8\"], [0.3333333333333333, \"#9c179e\"], [0.4444444444444444, \"#bd3786\"], [0.5555555555555556, \"#d8576b\"], [0.6666666666666666, \"#ed7953\"], [0.7777777777777778, \"#fb9f3a\"], [0.8888888888888888, \"#fdca26\"], [1.0, \"#f0f921\"]], \"type\": \"heatmap\"}], \"heatmapgl\": [{\"colorbar\": {\"outlinewidth\": 0, \"ticks\": \"\"}, \"colorscale\": [[0.0, \"#0d0887\"], [0.1111111111111111, \"#46039f\"], [0.2222222222222222, \"#7201a8\"], [0.3333333333333333, \"#9c179e\"], [0.4444444444444444, \"#bd3786\"], [0.5555555555555556, \"#d8576b\"], [0.6666666666666666, \"#ed7953\"], [0.7777777777777778, \"#fb9f3a\"], [0.8888888888888888, \"#fdca26\"], [1.0, \"#f0f921\"]], \"type\": \"heatmapgl\"}], \"histogram\": [{\"marker\": {\"colorbar\": {\"outlinewidth\": 0, \"ticks\": \"\"}}, \"type\": \"histogram\"}], \"histogram2d\": [{\"colorbar\": {\"outlinewidth\": 0, \"ticks\": \"\"}, \"colorscale\": [[0.0, \"#0d0887\"], [0.1111111111111111, \"#46039f\"], [0.2222222222222222, \"#7201a8\"], [0.3333333333333333, \"#9c179e\"], [0.4444444444444444, \"#bd3786\"], [0.5555555555555556, \"#d8576b\"], [0.6666666666666666, \"#ed7953\"], [0.7777777777777778, \"#fb9f3a\"], [0.8888888888888888, \"#fdca26\"], [1.0, \"#f0f921\"]], \"type\": \"histogram2d\"}], \"histogram2dcontour\": [{\"colorbar\": {\"outlinewidth\": 0, \"ticks\": \"\"}, \"colorscale\": [[0.0, \"#0d0887\"], [0.1111111111111111, \"#46039f\"], [0.2222222222222222, \"#7201a8\"], [0.3333333333333333, \"#9c179e\"], [0.4444444444444444, \"#bd3786\"], [0.5555555555555556, \"#d8576b\"], [0.6666666666666666, \"#ed7953\"], [0.7777777777777778, \"#fb9f3a\"], [0.8888888888888888, \"#fdca26\"], [1.0, \"#f0f921\"]], \"type\": \"histogram2dcontour\"}], \"mesh3d\": [{\"colorbar\": {\"outlinewidth\": 0, \"ticks\": \"\"}, \"type\": \"mesh3d\"}], \"parcoords\": [{\"line\": {\"colorbar\": {\"outlinewidth\": 0, \"ticks\": \"\"}}, \"type\": \"parcoords\"}], \"pie\": [{\"automargin\": true, \"type\": \"pie\"}], \"scatter\": [{\"marker\": {\"colorbar\": {\"outlinewidth\": 0, \"ticks\": \"\"}}, \"type\": \"scatter\"}], \"scatter3d\": [{\"line\": {\"colorbar\": {\"outlinewidth\": 0, \"ticks\": \"\"}}, \"marker\": {\"colorbar\": {\"outlinewidth\": 0, \"ticks\": \"\"}}, \"type\": \"scatter3d\"}], \"scattercarpet\": [{\"marker\": {\"colorbar\": {\"outlinewidth\": 0, \"ticks\": \"\"}}, \"type\": \"scattercarpet\"}], \"scattergeo\": [{\"marker\": {\"colorbar\": {\"outlinewidth\": 0, \"ticks\": \"\"}}, \"type\": \"scattergeo\"}], \"scattergl\": [{\"marker\": {\"colorbar\": {\"outlinewidth\": 0, \"ticks\": \"\"}}, \"type\": \"scattergl\"}], \"scattermapbox\": [{\"marker\": {\"colorbar\": {\"outlinewidth\": 0, \"ticks\": \"\"}}, \"type\": \"scattermapbox\"}], \"scatterpolar\": [{\"marker\": {\"colorbar\": {\"outlinewidth\": 0, \"ticks\": \"\"}}, \"type\": \"scatterpolar\"}], \"scatterpolargl\": [{\"marker\": {\"colorbar\": {\"outlinewidth\": 0, \"ticks\": \"\"}}, \"type\": \"scatterpolargl\"}], \"scatterternary\": [{\"marker\": {\"colorbar\": {\"outlinewidth\": 0, \"ticks\": \"\"}}, \"type\": \"scatterternary\"}], \"surface\": [{\"colorbar\": {\"outlinewidth\": 0, \"ticks\": \"\"}, \"colorscale\": [[0.0, \"#0d0887\"], [0.1111111111111111, \"#46039f\"], [0.2222222222222222, \"#7201a8\"], [0.3333333333333333, \"#9c179e\"], [0.4444444444444444, \"#bd3786\"], [0.5555555555555556, \"#d8576b\"], [0.6666666666666666, \"#ed7953\"], [0.7777777777777778, \"#fb9f3a\"], [0.8888888888888888, \"#fdca26\"], [1.0, \"#f0f921\"]], \"type\": \"surface\"}], \"table\": [{\"cells\": {\"fill\": {\"color\": \"#EBF0F8\"}, \"line\": {\"color\": \"white\"}}, \"header\": {\"fill\": {\"color\": \"#C8D4E3\"}, \"line\": {\"color\": \"white\"}}, \"type\": \"table\"}]}, \"layout\": {\"annotationdefaults\": {\"arrowcolor\": \"#2a3f5f\", \"arrowhead\": 0, \"arrowwidth\": 1}, \"coloraxis\": {\"colorbar\": {\"outlinewidth\": 0, \"ticks\": \"\"}}, \"colorscale\": {\"diverging\": [[0, \"#8e0152\"], [0.1, \"#c51b7d\"], [0.2, \"#de77ae\"], [0.3, \"#f1b6da\"], [0.4, \"#fde0ef\"], [0.5, \"#f7f7f7\"], [0.6, \"#e6f5d0\"], [0.7, \"#b8e186\"], [0.8, \"#7fbc41\"], [0.9, \"#4d9221\"], [1, \"#276419\"]], \"sequential\": [[0.0, \"#0d0887\"], [0.1111111111111111, \"#46039f\"], [0.2222222222222222, \"#7201a8\"], [0.3333333333333333, \"#9c179e\"], [0.4444444444444444, \"#bd3786\"], [0.5555555555555556, \"#d8576b\"], [0.6666666666666666, \"#ed7953\"], [0.7777777777777778, \"#fb9f3a\"], [0.8888888888888888, \"#fdca26\"], [1.0, \"#f0f921\"]], \"sequentialminus\": [[0.0, \"#0d0887\"], [0.1111111111111111, \"#46039f\"], [0.2222222222222222, \"#7201a8\"], [0.3333333333333333, \"#9c179e\"], [0.4444444444444444, \"#bd3786\"], [0.5555555555555556, \"#d8576b\"], [0.6666666666666666, \"#ed7953\"], [0.7777777777777778, \"#fb9f3a\"], [0.8888888888888888, \"#fdca26\"], [1.0, \"#f0f921\"]]}, \"colorway\": [\"#636efa\", \"#EF553B\", \"#00cc96\", \"#ab63fa\", \"#FFA15A\", \"#19d3f3\", \"#FF6692\", \"#B6E880\", \"#FF97FF\", \"#FECB52\"], \"font\": {\"color\": \"#2a3f5f\"}, \"geo\": {\"bgcolor\": \"white\", \"lakecolor\": \"white\", \"landcolor\": \"#E5ECF6\", \"showlakes\": true, \"showland\": true, \"subunitcolor\": \"white\"}, \"hoverlabel\": {\"align\": \"left\"}, \"hovermode\": \"closest\", \"mapbox\": {\"style\": \"light\"}, \"paper_bgcolor\": \"white\", \"plot_bgcolor\": \"#E5ECF6\", \"polar\": {\"angularaxis\": {\"gridcolor\": \"white\", \"linecolor\": \"white\", \"ticks\": \"\"}, \"bgcolor\": \"#E5ECF6\", \"radialaxis\": {\"gridcolor\": \"white\", \"linecolor\": \"white\", \"ticks\": \"\"}}, \"scene\": {\"xaxis\": {\"backgroundcolor\": \"#E5ECF6\", \"gridcolor\": \"white\", \"gridwidth\": 2, \"linecolor\": \"white\", \"showbackground\": true, \"ticks\": \"\", \"zerolinecolor\": \"white\"}, \"yaxis\": {\"backgroundcolor\": \"#E5ECF6\", \"gridcolor\": \"white\", \"gridwidth\": 2, \"linecolor\": \"white\", \"showbackground\": true, \"ticks\": \"\", \"zerolinecolor\": \"white\"}, \"zaxis\": {\"backgroundcolor\": \"#E5ECF6\", \"gridcolor\": \"white\", \"gridwidth\": 2, \"linecolor\": \"white\", \"showbackground\": true, \"ticks\": \"\", \"zerolinecolor\": \"white\"}}, \"shapedefaults\": {\"line\": {\"color\": \"#2a3f5f\"}}, \"ternary\": {\"aaxis\": {\"gridcolor\": \"white\", \"linecolor\": \"white\", \"ticks\": \"\"}, \"baxis\": {\"gridcolor\": \"white\", \"linecolor\": \"white\", \"ticks\": \"\"}, \"bgcolor\": \"#E5ECF6\", \"caxis\": {\"gridcolor\": \"white\", \"linecolor\": \"white\", \"ticks\": \"\"}}, \"title\": {\"x\": 0.05}, \"xaxis\": {\"automargin\": true, \"gridcolor\": \"white\", \"linecolor\": \"white\", \"ticks\": \"\", \"title\": {\"standoff\": 15}, \"zerolinecolor\": \"white\", \"zerolinewidth\": 2}, \"yaxis\": {\"automargin\": true, \"gridcolor\": \"white\", \"linecolor\": \"white\", \"ticks\": \"\", \"title\": {\"standoff\": 15}, \"zerolinecolor\": \"white\", \"zerolinewidth\": 2}}}, \"xaxis\": {\"anchor\": \"y\", \"domain\": [0.0, 1.0], \"title\": {\"text\": \"date\"}}, \"yaxis\": {\"anchor\": \"x\", \"domain\": [0.0, 1.0], \"title\": {\"text\": \"35-44\"}}},\n",
              "                        {\"responsive\": true}\n",
              "                    ).then(function(){\n",
              "                            \n",
              "var gd = document.getElementById('0b05cbd0-05ca-4436-b647-c911ed101b4a');\n",
              "var x = new MutationObserver(function (mutations, observer) {{\n",
              "        var display = window.getComputedStyle(gd).display;\n",
              "        if (!display || display === 'none') {{\n",
              "            console.log([gd, 'removed!']);\n",
              "            Plotly.purge(gd);\n",
              "            observer.disconnect();\n",
              "        }}\n",
              "}});\n",
              "\n",
              "// Listen for the removal of the full notebook cells\n",
              "var notebookContainer = gd.closest('#notebook-container');\n",
              "if (notebookContainer) {{\n",
              "    x.observe(notebookContainer, {childList: true});\n",
              "}}\n",
              "\n",
              "// Listen for the clearing of the current output cell\n",
              "var outputEl = gd.closest('.output');\n",
              "if (outputEl) {{\n",
              "    x.observe(outputEl, {childList: true});\n",
              "}}\n",
              "\n",
              "                        })\n",
              "                };\n",
              "                \n",
              "            </script>\n",
              "        </div>\n",
              "</body>\n",
              "</html>"
            ]
          },
          "metadata": {
            "tags": []
          }
        }
      ]
    },
    {
      "cell_type": "code",
      "metadata": {
        "colab": {
          "base_uri": "https://localhost:8080/",
          "height": 542
        },
        "id": "JEWjZOYAUoaB",
        "outputId": "02946b22-0f10-4fe0-eaa6-8347b8cec0d4"
      },
      "source": [
        "px.scatter(df[df.sex=='Male'],x='date',y='35-44',color='STATE')"
      ],
      "execution_count": null,
      "outputs": [
        {
          "output_type": "display_data",
          "data": {
            "text/html": [
              "<html>\n",
              "<head><meta charset=\"utf-8\" /></head>\n",
              "<body>\n",
              "    <div>\n",
              "            <script src=\"https://cdnjs.cloudflare.com/ajax/libs/mathjax/2.7.5/MathJax.js?config=TeX-AMS-MML_SVG\"></script><script type=\"text/javascript\">if (window.MathJax) {MathJax.Hub.Config({SVG: {font: \"STIX-Web\"}});}</script>\n",
              "                <script type=\"text/javascript\">window.PlotlyConfig = {MathJaxConfig: 'local'};</script>\n",
              "        <script src=\"https://cdn.plot.ly/plotly-latest.min.js\"></script>    \n",
              "            <div id=\"806e9fe8-a389-4078-bc24-2da4d1514b1d\" class=\"plotly-graph-div\" style=\"height:525px; width:100%;\"></div>\n",
              "            <script type=\"text/javascript\">\n",
              "                \n",
              "                    window.PLOTLYENV=window.PLOTLYENV || {};\n",
              "                    \n",
              "                if (document.getElementById(\"806e9fe8-a389-4078-bc24-2da4d1514b1d\")) {\n",
              "                    Plotly.newPlot(\n",
              "                        '806e9fe8-a389-4078-bc24-2da4d1514b1d',\n",
              "                        [{\"hoverlabel\": {\"namelength\": 0}, \"hovertemplate\": \"STATE=NSW<br>date=%{x}<br>35-44=%{y}\", \"legendgroup\": \"STATE=NSW\", \"marker\": {\"color\": \"#636efa\", \"symbol\": \"circle\"}, \"mode\": \"markers\", \"name\": \"STATE=NSW\", \"showlegend\": true, \"type\": \"scatter\", \"x\": [\"2010-01-01T00:00:00\", \"2010-10-01T00:00:00\", \"2010-05-01T00:00:00\", \"2010-11-01T00:00:00\", \"2010-09-01T00:00:00\", \"2010-08-01T00:00:00\", \"2010-06-01T00:00:00\", \"2010-03-01T00:00:00\", \"2014-02-01T00:00:00\", \"2014-10-01T00:00:00\", \"2014-11-01T00:00:00\", \"2014-07-01T00:00:00\", \"2014-09-01T00:00:00\", \"2015-04-01T00:00:00\", \"2015-06-01T00:00:00\", \"2015-05-01T00:00:00\", \"2015-01-01T00:00:00\", \"2007-09-01T00:00:00\", \"2007-02-01T00:00:00\", \"2007-08-01T00:00:00\", \"2007-11-01T00:00:00\", \"2007-12-01T00:00:00\", \"2007-03-01T00:00:00\", \"2007-05-01T00:00:00\", \"2007-01-01T00:00:00\", \"2012-01-01T00:00:00\", \"2012-11-01T00:00:00\", \"2012-09-01T00:00:00\", \"2012-07-01T00:00:00\", \"2012-03-01T00:00:00\", \"2012-06-01T00:00:00\", \"2013-06-01T00:00:00\", \"2013-02-01T00:00:00\", \"2013-05-01T00:00:00\", \"2013-03-01T00:00:00\", \"2013-12-01T00:00:00\", \"2013-10-01T00:00:00\", \"2013-09-01T00:00:00\", \"2013-04-01T00:00:00\", \"2013-08-01T00:00:00\", \"2009-07-01T00:00:00\", \"2009-08-01T00:00:00\", \"2009-03-01T00:00:00\", \"2009-10-01T00:00:00\", \"2009-02-01T00:00:00\", \"2009-05-01T00:00:00\", \"2009-12-01T00:00:00\", \"2009-09-01T00:00:00\", \"2009-01-01T00:00:00\", \"2011-09-01T00:00:00\", \"2011-04-01T00:00:00\", \"2011-03-01T00:00:00\", \"2011-08-01T00:00:00\", \"2011-05-01T00:00:00\", \"2008-02-01T00:00:00\", \"2008-03-01T00:00:00\", \"2008-09-01T00:00:00\", \"2008-08-01T00:00:00\", \"2008-04-01T00:00:00\", \"2008-06-01T00:00:00\", \"2008-10-01T00:00:00\", \"2008-05-01T00:00:00\", \"2008-12-01T00:00:00\"], \"xaxis\": \"x\", \"y\": [20942.0, 21647.0, 21331.0, 21716.0, 21623.0, 21558.0, 21405.0, 21141.0, 24067.0, 24509.0, 24583.0, 24304.0, 24441.0, 24683.0, 24781.0, 24719.0, 24640.0, 18973.0, 15454.0, 17364.0, 19418.0, 19605.0, 15757.0, 16171.0, 15338.0, 22975.0, 22901.0, 22810.0, 22739.0, 22549.0, 22673.0, 23555.0, 23149.0, 23470.0, 23266.0, 23984.0, 23904.0, 23900.0, 23342.0, 23872.0, 20407.0, 20494.0, 20002.0, 20738.0, 19878.0, 20209.0, 20866.0, 20609.0, 19773.0, 22255.0, 22077.0, 22051.0, 22244.0, 22141.0, 20011.0, 20374.0, 21688.0, 21502.0, 20793.0, 21217.0, 19494.0, 20994.0, 19677.0], \"yaxis\": \"y\"}, {\"hoverlabel\": {\"namelength\": 0}, \"hovertemplate\": \"STATE=VIC<br>date=%{x}<br>35-44=%{y}\", \"legendgroup\": \"STATE=VIC\", \"marker\": {\"color\": \"#EF553B\", \"symbol\": \"circle\"}, \"mode\": \"markers\", \"name\": \"STATE=VIC\", \"showlegend\": true, \"type\": \"scatter\", \"x\": [\"2010-01-01T00:00:00\", \"2010-10-01T00:00:00\", \"2010-05-01T00:00:00\", \"2010-11-01T00:00:00\", \"2010-09-01T00:00:00\", \"2010-08-01T00:00:00\", \"2010-06-01T00:00:00\", \"2010-03-01T00:00:00\", \"2014-02-01T00:00:00\", \"2014-10-01T00:00:00\", \"2014-11-01T00:00:00\", \"2014-07-01T00:00:00\", \"2014-09-01T00:00:00\", \"2015-04-01T00:00:00\", \"2015-06-01T00:00:00\", \"2015-05-01T00:00:00\", \"2015-01-01T00:00:00\", \"2007-09-01T00:00:00\", \"2007-02-01T00:00:00\", \"2007-08-01T00:00:00\", \"2007-11-01T00:00:00\", \"2007-12-01T00:00:00\", \"2007-03-01T00:00:00\", \"2007-05-01T00:00:00\", \"2007-01-01T00:00:00\", \"2012-01-01T00:00:00\", \"2012-11-01T00:00:00\", \"2012-09-01T00:00:00\", \"2012-07-01T00:00:00\", \"2012-03-01T00:00:00\", \"2012-06-01T00:00:00\", \"2013-06-01T00:00:00\", \"2013-02-01T00:00:00\", \"2013-05-01T00:00:00\", \"2013-03-01T00:00:00\", \"2013-12-01T00:00:00\", \"2013-10-01T00:00:00\", \"2013-09-01T00:00:00\", \"2013-04-01T00:00:00\", \"2013-08-01T00:00:00\", \"2009-07-01T00:00:00\", \"2009-08-01T00:00:00\", \"2009-03-01T00:00:00\", \"2009-10-01T00:00:00\", \"2009-02-01T00:00:00\", \"2009-05-01T00:00:00\", \"2009-12-01T00:00:00\", \"2009-09-01T00:00:00\", \"2009-01-01T00:00:00\", \"2011-09-01T00:00:00\", \"2011-04-01T00:00:00\", \"2011-03-01T00:00:00\", \"2011-08-01T00:00:00\", \"2011-05-01T00:00:00\", \"2008-02-01T00:00:00\", \"2008-03-01T00:00:00\", \"2008-09-01T00:00:00\", \"2008-08-01T00:00:00\", \"2008-04-01T00:00:00\", \"2008-06-01T00:00:00\", \"2008-10-01T00:00:00\", \"2008-05-01T00:00:00\", \"2008-12-01T00:00:00\"], \"xaxis\": \"x\", \"y\": [26341.0, 28080.0, 27089.0, 28239.0, 27947.0, 27734.0, 27267.0, 26766.0, 33197.0, 33707.0, 33800.0, 33526.0, 33647.0, 33925.0, 33922.0, 33875.0, 33812.0, 19900.0, 17702.0, 19329.0, 20509.0, 20811.0, 17986.0, 18644.0, 17401.0, 32138.0, 32095.0, 31880.0, 31570.0, 30974.0, 31439.0, 32640.0, 32298.0, 32539.0, 32365.0, 33144.0, 33058.0, 33048.0, 32413.0, 33020.0, 25283.0, 25448.0, 24539.0, 25886.0, 24283.0, 24920.0, 26192.0, 25653.0, 24054.0, 30141.0, 29208.0, 29020.0, 30010.0, 29436.0, 21396.0, 21742.0, 23593.0, 23329.0, 22237.0, 22876.0, 23402.0, 22596.0, 23847.0], \"yaxis\": \"y\"}, {\"hoverlabel\": {\"namelength\": 0}, \"hovertemplate\": \"STATE=QLD<br>date=%{x}<br>35-44=%{y}\", \"legendgroup\": \"STATE=QLD\", \"marker\": {\"color\": \"#00cc96\", \"symbol\": \"circle\"}, \"mode\": \"markers\", \"name\": \"STATE=QLD\", \"showlegend\": true, \"type\": \"scatter\", \"x\": [\"2010-01-01T00:00:00\", \"2010-10-01T00:00:00\", \"2010-05-01T00:00:00\", \"2010-11-01T00:00:00\", \"2010-09-01T00:00:00\", \"2010-08-01T00:00:00\", \"2010-06-01T00:00:00\", \"2010-03-01T00:00:00\", \"2014-02-01T00:00:00\", \"2014-10-01T00:00:00\", \"2014-11-01T00:00:00\", \"2014-07-01T00:00:00\", \"2014-09-01T00:00:00\", \"2015-04-01T00:00:00\", \"2015-06-01T00:00:00\", \"2015-05-01T00:00:00\", \"2015-01-01T00:00:00\", \"2007-09-01T00:00:00\", \"2007-02-01T00:00:00\", \"2007-08-01T00:00:00\", \"2007-11-01T00:00:00\", \"2007-12-01T00:00:00\", \"2007-03-01T00:00:00\", \"2007-05-01T00:00:00\", \"2007-01-01T00:00:00\", \"2012-01-01T00:00:00\", \"2012-11-01T00:00:00\", \"2012-09-01T00:00:00\", \"2012-07-01T00:00:00\", \"2012-03-01T00:00:00\", \"2012-06-01T00:00:00\", \"2013-06-01T00:00:00\", \"2013-02-01T00:00:00\", \"2013-05-01T00:00:00\", \"2013-03-01T00:00:00\", \"2013-12-01T00:00:00\", \"2013-10-01T00:00:00\", \"2013-09-01T00:00:00\", \"2013-04-01T00:00:00\", \"2013-08-01T00:00:00\", \"2009-07-01T00:00:00\", \"2009-08-01T00:00:00\", \"2009-03-01T00:00:00\", \"2009-10-01T00:00:00\", \"2009-02-01T00:00:00\", \"2009-05-01T00:00:00\", \"2009-12-01T00:00:00\", \"2009-09-01T00:00:00\", \"2009-01-01T00:00:00\", \"2011-09-01T00:00:00\", \"2011-04-01T00:00:00\", \"2011-03-01T00:00:00\", \"2011-08-01T00:00:00\", \"2011-05-01T00:00:00\", \"2008-02-01T00:00:00\", \"2008-03-01T00:00:00\", \"2008-09-01T00:00:00\", \"2008-08-01T00:00:00\", \"2008-04-01T00:00:00\", \"2008-06-01T00:00:00\", \"2008-10-01T00:00:00\", \"2008-05-01T00:00:00\", \"2008-12-01T00:00:00\"], \"xaxis\": \"x\", \"y\": [20670.0, 21520.0, 21024.0, 21622.0, 21443.0, 21346.0, 21138.0, 20864.0, 22854.0, 22806.0, 22812.0, 22812.0, 22824.0, 22716.0, 22770.0, 22743.0, 22779.0, 15226.0, 14220.0, 15872.0, 15729.0, 15927.0, 14592.0, 15330.0, 13980.0, 22896.0, 22923.0, 22824.0, 22782.0, 22686.0, 22771.0, 22923.0, 22922.0, 22894.0, 22890.0, 22870.0, 22939.0, 22970.0, 22870.0, 22991.0, 20165.0, 20255.0, 19810.0, 20401.0, 19733.0, 20013.0, 20615.0, 20346.0, 19609.0, 22465.0, 22094.0, 22003.0, 22431.0, 22143.0, 16309.0, 16547.0, 17960.0, 17855.0, 16839.0, 17512.0, 19362.0, 17308.0, 19511.0], \"yaxis\": \"y\"}, {\"hoverlabel\": {\"namelength\": 0}, \"hovertemplate\": \"STATE=SA<br>date=%{x}<br>35-44=%{y}\", \"legendgroup\": \"STATE=SA\", \"marker\": {\"color\": \"#ab63fa\", \"symbol\": \"circle\"}, \"mode\": \"markers\", \"name\": \"STATE=SA\", \"showlegend\": true, \"type\": \"scatter\", \"x\": [\"2010-01-01T00:00:00\", \"2010-10-01T00:00:00\", \"2010-05-01T00:00:00\", \"2010-11-01T00:00:00\", \"2010-09-01T00:00:00\", \"2010-08-01T00:00:00\", \"2010-06-01T00:00:00\", \"2010-03-01T00:00:00\", \"2014-02-01T00:00:00\", \"2014-10-01T00:00:00\", \"2014-11-01T00:00:00\", \"2014-07-01T00:00:00\", \"2014-09-01T00:00:00\", \"2015-04-01T00:00:00\", \"2015-06-01T00:00:00\", \"2015-05-01T00:00:00\", \"2015-01-01T00:00:00\", \"2007-09-01T00:00:00\", \"2007-02-01T00:00:00\", \"2007-08-01T00:00:00\", \"2007-11-01T00:00:00\", \"2007-12-01T00:00:00\", \"2007-03-01T00:00:00\", \"2007-05-01T00:00:00\", \"2007-01-01T00:00:00\", \"2012-01-01T00:00:00\", \"2012-11-01T00:00:00\", \"2012-09-01T00:00:00\", \"2012-07-01T00:00:00\", \"2012-03-01T00:00:00\", \"2012-06-01T00:00:00\", \"2013-06-01T00:00:00\", \"2013-02-01T00:00:00\", \"2013-05-01T00:00:00\", \"2013-03-01T00:00:00\", \"2013-12-01T00:00:00\", \"2013-10-01T00:00:00\", \"2013-09-01T00:00:00\", \"2013-04-01T00:00:00\", \"2013-08-01T00:00:00\", \"2009-07-01T00:00:00\", \"2009-08-01T00:00:00\", \"2009-03-01T00:00:00\", \"2009-10-01T00:00:00\", \"2009-02-01T00:00:00\", \"2009-05-01T00:00:00\", \"2009-12-01T00:00:00\", \"2009-09-01T00:00:00\", \"2009-01-01T00:00:00\", \"2011-09-01T00:00:00\", \"2011-04-01T00:00:00\", \"2011-03-01T00:00:00\", \"2011-08-01T00:00:00\", \"2011-05-01T00:00:00\", \"2008-02-01T00:00:00\", \"2008-03-01T00:00:00\", \"2008-09-01T00:00:00\", \"2008-08-01T00:00:00\", \"2008-04-01T00:00:00\", \"2008-06-01T00:00:00\", \"2008-10-01T00:00:00\", \"2008-05-01T00:00:00\", \"2008-12-01T00:00:00\"], \"xaxis\": \"x\", \"y\": [8381.0, 8936.0, 8639.0, 9021.0, 8915.0, 8846.0, 8710.0, 8536.0, 11398.0, 11572.0, 11624.0, 11559.0, 11573.0, 11650.0, 11661.0, 11671.0, 11637.0, 5239.0, 4838.0, 5534.0, 5374.0, 5460.0, 4991.0, 5228.0, 4764.0, 10778.0, 10735.0, 10635.0, 10480.0, 10170.0, 10419.0, 11008.0, 10865.0, 10965.0, 10891.0, 11321.0, 11291.0, 11230.0, 10941.0, 11192.0, 7937.0, 8018.0, 7580.0, 8185.0, 7466.0, 7746.0, 8324.0, 8092.0, 7371.0, 9757.0, 9380.0, 9280.0, 9693.0, 9486.0, 5588.0, 5736.0, 6600.0, 6455.0, 5895.0, 6175.0, 7027.0, 6049.0, 7257.0], \"yaxis\": \"y\"}, {\"hoverlabel\": {\"namelength\": 0}, \"hovertemplate\": \"STATE=WA<br>date=%{x}<br>35-44=%{y}\", \"legendgroup\": \"STATE=WA\", \"marker\": {\"color\": \"#FFA15A\", \"symbol\": \"circle\"}, \"mode\": \"markers\", \"name\": \"STATE=WA\", \"showlegend\": true, \"type\": \"scatter\", \"x\": [\"2010-01-01T00:00:00\", \"2010-10-01T00:00:00\", \"2010-05-01T00:00:00\", \"2010-11-01T00:00:00\", \"2010-09-01T00:00:00\", \"2010-08-01T00:00:00\", \"2010-06-01T00:00:00\", \"2010-03-01T00:00:00\", \"2014-02-01T00:00:00\", \"2014-10-01T00:00:00\", \"2014-11-01T00:00:00\", \"2014-07-01T00:00:00\", \"2014-09-01T00:00:00\", \"2015-04-01T00:00:00\", \"2015-06-01T00:00:00\", \"2015-05-01T00:00:00\", \"2015-01-01T00:00:00\", \"2007-09-01T00:00:00\", \"2007-02-01T00:00:00\", \"2007-08-01T00:00:00\", \"2007-11-01T00:00:00\", \"2007-12-01T00:00:00\", \"2007-03-01T00:00:00\", \"2007-05-01T00:00:00\", \"2007-01-01T00:00:00\", \"2012-01-01T00:00:00\", \"2012-11-01T00:00:00\", \"2012-09-01T00:00:00\", \"2012-07-01T00:00:00\", \"2012-03-01T00:00:00\", \"2012-06-01T00:00:00\", \"2013-06-01T00:00:00\", \"2013-02-01T00:00:00\", \"2013-05-01T00:00:00\", \"2013-03-01T00:00:00\", \"2013-12-01T00:00:00\", \"2013-10-01T00:00:00\", \"2013-09-01T00:00:00\", \"2013-04-01T00:00:00\", \"2013-08-01T00:00:00\", \"2009-07-01T00:00:00\", \"2009-08-01T00:00:00\", \"2009-03-01T00:00:00\", \"2009-10-01T00:00:00\", \"2009-02-01T00:00:00\", \"2009-05-01T00:00:00\", \"2009-12-01T00:00:00\", \"2009-09-01T00:00:00\", \"2009-01-01T00:00:00\", \"2011-09-01T00:00:00\", \"2011-04-01T00:00:00\", \"2011-03-01T00:00:00\", \"2011-08-01T00:00:00\", \"2011-05-01T00:00:00\", \"2008-02-01T00:00:00\", \"2008-03-01T00:00:00\", \"2008-09-01T00:00:00\", \"2008-08-01T00:00:00\", \"2008-04-01T00:00:00\", \"2008-06-01T00:00:00\", \"2008-10-01T00:00:00\", \"2008-05-01T00:00:00\", \"2008-12-01T00:00:00\"], \"xaxis\": \"x\", \"y\": [16635.0, 17693.0, 17113.0, 17776.0, 17594.0, 17492.0, 17228.0, 16905.0, 19848.0, 19837.0, 19798.0, 19866.0, 19849.0, 19772.0, 19750.0, 19780.0, 19793.0, 11005.0, 10488.0, 11485.0, 11263.0, 11399.0, 10766.0, 11240.0, 10295.0, 19575.0, 19582.0, 19534.0, 19436.0, 19148.0, 19377.0, 19819.0, 19675.0, 19760.0, 19661.0, 19840.0, 19843.0, 19860.0, 19712.0, 19869.0, 15949.0, 16052.0, 15453.0, 16342.0, 15283.0, 15738.0, 16569.0, 16201.0, 15140.0, 18802.0, 18281.0, 18196.0, 18751.0, 18455.0, 11734.0, 11903.0, 13562.0, 13377.0, 12191.0, 12965.0, 14661.0, 12634.0, 14960.0], \"yaxis\": \"y\"}, {\"hoverlabel\": {\"namelength\": 0}, \"hovertemplate\": \"STATE=TAS<br>date=%{x}<br>35-44=%{y}\", \"legendgroup\": \"STATE=TAS\", \"marker\": {\"color\": \"#19d3f3\", \"symbol\": \"circle\"}, \"mode\": \"markers\", \"name\": \"STATE=TAS\", \"showlegend\": true, \"type\": \"scatter\", \"x\": [\"2010-01-01T00:00:00\", \"2010-10-01T00:00:00\", \"2010-05-01T00:00:00\", \"2010-11-01T00:00:00\", \"2010-09-01T00:00:00\", \"2010-08-01T00:00:00\", \"2010-06-01T00:00:00\", \"2010-03-01T00:00:00\", \"2014-02-01T00:00:00\", \"2014-10-01T00:00:00\", \"2014-11-01T00:00:00\", \"2014-07-01T00:00:00\", \"2014-09-01T00:00:00\", \"2015-04-01T00:00:00\", \"2015-06-01T00:00:00\", \"2015-05-01T00:00:00\", \"2015-01-01T00:00:00\", \"2007-09-01T00:00:00\", \"2007-02-01T00:00:00\", \"2007-08-01T00:00:00\", \"2007-11-01T00:00:00\", \"2007-12-01T00:00:00\", \"2007-03-01T00:00:00\", \"2007-05-01T00:00:00\", \"2007-01-01T00:00:00\", \"2012-01-01T00:00:00\", \"2012-11-01T00:00:00\", \"2012-09-01T00:00:00\", \"2012-07-01T00:00:00\", \"2012-03-01T00:00:00\", \"2012-06-01T00:00:00\", \"2013-06-01T00:00:00\", \"2013-02-01T00:00:00\", \"2013-05-01T00:00:00\", \"2013-03-01T00:00:00\", \"2013-12-01T00:00:00\", \"2013-10-01T00:00:00\", \"2013-09-01T00:00:00\", \"2013-04-01T00:00:00\", \"2013-08-01T00:00:00\", \"2009-07-01T00:00:00\", \"2009-08-01T00:00:00\", \"2009-03-01T00:00:00\", \"2009-10-01T00:00:00\", \"2009-02-01T00:00:00\", \"2009-05-01T00:00:00\", \"2009-12-01T00:00:00\", \"2009-09-01T00:00:00\", \"2009-01-01T00:00:00\", \"2011-09-01T00:00:00\", \"2011-04-01T00:00:00\", \"2011-03-01T00:00:00\", \"2011-08-01T00:00:00\", \"2011-05-01T00:00:00\", \"2008-02-01T00:00:00\", \"2008-03-01T00:00:00\", \"2008-09-01T00:00:00\", \"2008-08-01T00:00:00\", \"2008-04-01T00:00:00\", \"2008-06-01T00:00:00\", \"2008-10-01T00:00:00\", \"2008-05-01T00:00:00\", \"2008-12-01T00:00:00\"], \"xaxis\": \"x\", \"y\": [2644.0, 2772.0, 2725.0, 2797.0, 2769.0, 2770.0, 2736.0, 2670.0, 3056.0, 3064.0, 3082.0, 3061.0, 3055.0, 3069.0, 3084.0, 3081.0, 3078.0, 1548.0, 1536.0, 1762.0, 1716.0, 1750.0, 1583.0, 1645.0, 1527.0, 3106.0, 3086.0, 3069.0, 3047.0, 2971.0, 3026.0, 3073.0, 3096.0, 3071.0, 3100.0, 3081.0, 3094.0, 3097.0, 3078.0, 3099.0, 2618.0, 2617.0, 2591.0, 2633.0, 2562.0, 2605.0, 2645.0, 2627.0, 2553.0, 2953.0, 2880.0, 2861.0, 2941.0, 2910.0, 1819.0, 1883.0, 2179.0, 2178.0, 1958.0, 2129.0, 2519.0, 2087.0, 2544.0], \"yaxis\": \"y\"}, {\"hoverlabel\": {\"namelength\": 0}, \"hovertemplate\": \"STATE=NT<br>date=%{x}<br>35-44=%{y}\", \"legendgroup\": \"STATE=NT\", \"marker\": {\"color\": \"#FF6692\", \"symbol\": \"circle\"}, \"mode\": \"markers\", \"name\": \"STATE=NT\", \"showlegend\": true, \"type\": \"scatter\", \"x\": [\"2010-01-01T00:00:00\", \"2010-10-01T00:00:00\", \"2010-05-01T00:00:00\", \"2010-11-01T00:00:00\", \"2010-09-01T00:00:00\", \"2010-08-01T00:00:00\", \"2010-06-01T00:00:00\", \"2010-03-01T00:00:00\", \"2014-02-01T00:00:00\", \"2014-10-01T00:00:00\", \"2014-11-01T00:00:00\", \"2014-07-01T00:00:00\", \"2014-09-01T00:00:00\", \"2015-04-01T00:00:00\", \"2015-06-01T00:00:00\", \"2015-05-01T00:00:00\", \"2015-01-01T00:00:00\", \"2007-09-01T00:00:00\", \"2007-02-01T00:00:00\", \"2007-08-01T00:00:00\", \"2007-11-01T00:00:00\", \"2007-12-01T00:00:00\", \"2007-03-01T00:00:00\", \"2007-05-01T00:00:00\", \"2007-01-01T00:00:00\", \"2012-01-01T00:00:00\", \"2012-11-01T00:00:00\", \"2012-09-01T00:00:00\", \"2012-07-01T00:00:00\", \"2012-03-01T00:00:00\", \"2012-06-01T00:00:00\", \"2013-06-01T00:00:00\", \"2013-02-01T00:00:00\", \"2013-05-01T00:00:00\", \"2013-03-01T00:00:00\", \"2013-12-01T00:00:00\", \"2013-10-01T00:00:00\", \"2013-09-01T00:00:00\", \"2013-04-01T00:00:00\", \"2013-08-01T00:00:00\", \"2009-07-01T00:00:00\", \"2009-08-01T00:00:00\", \"2009-03-01T00:00:00\", \"2009-10-01T00:00:00\", \"2009-02-01T00:00:00\", \"2009-05-01T00:00:00\", \"2009-12-01T00:00:00\", \"2009-09-01T00:00:00\", \"2009-01-01T00:00:00\", \"2011-09-01T00:00:00\", \"2011-04-01T00:00:00\", \"2011-03-01T00:00:00\", \"2011-08-01T00:00:00\", \"2011-05-01T00:00:00\", \"2008-02-01T00:00:00\", \"2008-03-01T00:00:00\", \"2008-09-01T00:00:00\", \"2008-08-01T00:00:00\", \"2008-04-01T00:00:00\", \"2008-06-01T00:00:00\", \"2008-10-01T00:00:00\", \"2008-05-01T00:00:00\", \"2008-12-01T00:00:00\"], \"xaxis\": \"x\", \"y\": [879.0, 963.0, 900.0, 970.0, 962.0, 945.0, 911.0, 899.0, 1049.0, 1048.0, 1052.0, 1052.0, 1036.0, 1046.0, 1057.0, 1050.0, 1054.0, 728.0, 512.0, 541.0, 752.0, 763.0, 525.0, 541.0, 504.0, 1042.0, 1042.0, 1039.0, 1023.0, 1002.0, 1020.0, 1065.0, 1045.0, 1065.0, 1046.0, 1060.0, 1063.0, 1063.0, 1058.0, 1061.0, 825.0, 847.0, 773.0, 858.0, 762.0, 798.0, 879.0, 852.0, 749.0, 978.0, 1001.0, 991.0, 983.0, 1004.0, 790.0, 811.0, 922.0, 914.0, 839.0, 874.0, 734.0, 848.0, 741.0], \"yaxis\": \"y\"}, {\"hoverlabel\": {\"namelength\": 0}, \"hovertemplate\": \"STATE=ACT<br>date=%{x}<br>35-44=%{y}\", \"legendgroup\": \"STATE=ACT\", \"marker\": {\"color\": \"#B6E880\", \"symbol\": \"circle\"}, \"mode\": \"markers\", \"name\": \"STATE=ACT\", \"showlegend\": true, \"type\": \"scatter\", \"x\": [\"2010-01-01T00:00:00\", \"2010-10-01T00:00:00\", \"2010-05-01T00:00:00\", \"2010-11-01T00:00:00\", \"2010-09-01T00:00:00\", \"2010-08-01T00:00:00\", \"2010-06-01T00:00:00\", \"2010-03-01T00:00:00\", \"2014-02-01T00:00:00\", \"2014-10-01T00:00:00\", \"2014-11-01T00:00:00\", \"2014-07-01T00:00:00\", \"2014-09-01T00:00:00\", \"2015-04-01T00:00:00\", \"2015-06-01T00:00:00\", \"2015-05-01T00:00:00\", \"2015-01-01T00:00:00\", \"2007-09-01T00:00:00\", \"2007-02-01T00:00:00\", \"2007-08-01T00:00:00\", \"2007-11-01T00:00:00\", \"2007-12-01T00:00:00\", \"2007-03-01T00:00:00\", \"2007-05-01T00:00:00\", \"2007-01-01T00:00:00\", \"2012-01-01T00:00:00\", \"2012-11-01T00:00:00\", \"2012-09-01T00:00:00\", \"2012-07-01T00:00:00\", \"2012-03-01T00:00:00\", \"2012-06-01T00:00:00\", \"2013-06-01T00:00:00\", \"2013-02-01T00:00:00\", \"2013-05-01T00:00:00\", \"2013-03-01T00:00:00\", \"2013-12-01T00:00:00\", \"2013-10-01T00:00:00\", \"2013-09-01T00:00:00\", \"2013-04-01T00:00:00\", \"2013-08-01T00:00:00\", \"2009-07-01T00:00:00\", \"2009-08-01T00:00:00\", \"2009-03-01T00:00:00\", \"2009-10-01T00:00:00\", \"2009-02-01T00:00:00\", \"2009-05-01T00:00:00\", \"2009-12-01T00:00:00\", \"2009-09-01T00:00:00\", \"2009-01-01T00:00:00\", \"2011-09-01T00:00:00\", \"2011-04-01T00:00:00\", \"2011-03-01T00:00:00\", \"2011-08-01T00:00:00\", \"2011-05-01T00:00:00\", \"2008-02-01T00:00:00\", \"2008-03-01T00:00:00\", \"2008-09-01T00:00:00\", \"2008-08-01T00:00:00\", \"2008-04-01T00:00:00\", \"2008-06-01T00:00:00\", \"2008-10-01T00:00:00\", \"2008-05-01T00:00:00\", \"2008-12-01T00:00:00\"], \"xaxis\": \"x\", \"y\": [2232.0, 2451.0, 2319.0, 2483.0, 2431.0, 2422.0, 2356.0, 2285.0, 3126.0, 3169.0, 3183.0, 3164.0, 3166.0, 3217.0, 3228.0, 3234.0, 3204.0, 1512.0, 1246.0, 1413.0, 1569.0, 1584.0, 1333.0, 1387.0, 1203.0, 2896.0, 2884.0, 2863.0, 2834.0, 2759.0, 2814.0, 2987.0, 2912.0, 2961.0, 2931.0, 3106.0, 3079.0, 3061.0, 2943.0, 3051.0, 2146.0, 2165.0, 2047.0, 2197.0, 2006.0, 2100.0, 2215.0, 2182.0, 1983.0, 2673.0, 2587.0, 2561.0, 2651.0, 2602.0, 1607.0, 1650.0, 1847.0, 1815.0, 1704.0, 1773.0, 1907.0, 1741.0, 1949.0], \"yaxis\": \"y\"}, {\"hoverlabel\": {\"namelength\": 0}, \"hovertemplate\": \"STATE=TOTAL<br>date=%{x}<br>35-44=%{y}\", \"legendgroup\": \"STATE=TOTAL\", \"marker\": {\"color\": \"#FF97FF\", \"symbol\": \"circle\"}, \"mode\": \"markers\", \"name\": \"STATE=TOTAL\", \"showlegend\": true, \"type\": \"scatter\", \"x\": [\"2010-01-01T00:00:00\", \"2010-10-01T00:00:00\", \"2010-05-01T00:00:00\", \"2010-11-01T00:00:00\", \"2010-09-01T00:00:00\", \"2010-08-01T00:00:00\", \"2010-06-01T00:00:00\", \"2010-03-01T00:00:00\", \"2014-02-01T00:00:00\", \"2014-10-01T00:00:00\", \"2014-11-01T00:00:00\", \"2014-07-01T00:00:00\", \"2014-09-01T00:00:00\", \"2015-04-01T00:00:00\", \"2015-06-01T00:00:00\", \"2015-05-01T00:00:00\", \"2015-01-01T00:00:00\", \"2007-09-01T00:00:00\", \"2007-02-01T00:00:00\", \"2007-08-01T00:00:00\", \"2007-11-01T00:00:00\", \"2007-12-01T00:00:00\", \"2007-03-01T00:00:00\", \"2007-05-01T00:00:00\", \"2007-01-01T00:00:00\", \"2012-01-01T00:00:00\", \"2012-11-01T00:00:00\", \"2012-09-01T00:00:00\", \"2012-07-01T00:00:00\", \"2012-03-01T00:00:00\", \"2012-06-01T00:00:00\", \"2013-06-01T00:00:00\", \"2013-02-01T00:00:00\", \"2013-05-01T00:00:00\", \"2013-03-01T00:00:00\", \"2013-12-01T00:00:00\", \"2013-10-01T00:00:00\", \"2013-09-01T00:00:00\", \"2013-04-01T00:00:00\", \"2013-08-01T00:00:00\", \"2009-07-01T00:00:00\", \"2009-08-01T00:00:00\", \"2009-03-01T00:00:00\", \"2009-10-01T00:00:00\", \"2009-02-01T00:00:00\", \"2009-05-01T00:00:00\", \"2009-12-01T00:00:00\", \"2009-09-01T00:00:00\", \"2009-01-01T00:00:00\", \"2011-09-01T00:00:00\", \"2011-04-01T00:00:00\", \"2011-03-01T00:00:00\", \"2011-08-01T00:00:00\", \"2011-05-01T00:00:00\", \"2008-02-01T00:00:00\", \"2008-03-01T00:00:00\", \"2008-09-01T00:00:00\", \"2008-08-01T00:00:00\", \"2008-04-01T00:00:00\", \"2008-06-01T00:00:00\", \"2008-10-01T00:00:00\", \"2008-05-01T00:00:00\", \"2008-12-01T00:00:00\"], \"xaxis\": \"x\", \"y\": [98724.0, 104062.0, 101140.0, 104624.0, 103684.0, 103113.0, 101751.0, 100066.0, 118595.0, 119712.0, 119934.0, 119344.0, 119591.0, 120078.0, 120253.0, 120153.0, 119997.0, 74131.0, 65996.0, 73300.0, 76330.0, 77299.0, 67533.0, 70186.0, 65012.0, 115406.0, 115248.0, 114654.0, 113911.0, 112259.0, 113539.0, 117070.0, 115962.0, 116725.0, 116150.0, 118406.0, 118271.0, 118229.0, 116357.0, 118155.0, 95330.0, 95896.0, 92795.0, 97240.0, 91973.0, 94129.0, 98305.0, 96562.0, 91232.0, 110024.0, 107508.0, 106963.0, 109704.0, 108177.0, 79254.0, 80646.0, 88351.0, 87425.0, 82456.0, 85521.0, 89106.0, 84257.0, 90486.0], \"yaxis\": \"y\"}, {\"hoverlabel\": {\"namelength\": 0}, \"hovertemplate\": \"STATE=Other<br>date=%{x}<br>35-44=%{y}\", \"legendgroup\": \"STATE=Other\", \"marker\": {\"color\": \"#FECB52\", \"symbol\": \"circle\"}, \"mode\": \"markers\", \"name\": \"STATE=Other\", \"showlegend\": true, \"type\": \"scatter\", \"x\": [\"2007-02-01T00:00:00\", \"2007-03-01T00:00:00\", \"2007-05-01T00:00:00\", \"2007-01-01T00:00:00\"], \"xaxis\": \"x\", \"y\": [0.0, 0.0, 0.0, 0.0], \"yaxis\": \"y\"}],\n",
              "                        {\"legend\": {\"tracegroupgap\": 0}, \"margin\": {\"t\": 60}, \"template\": {\"data\": {\"bar\": [{\"error_x\": {\"color\": \"#2a3f5f\"}, \"error_y\": {\"color\": \"#2a3f5f\"}, \"marker\": {\"line\": {\"color\": \"#E5ECF6\", \"width\": 0.5}}, \"type\": \"bar\"}], \"barpolar\": [{\"marker\": {\"line\": {\"color\": \"#E5ECF6\", \"width\": 0.5}}, \"type\": \"barpolar\"}], \"carpet\": [{\"aaxis\": {\"endlinecolor\": \"#2a3f5f\", \"gridcolor\": \"white\", \"linecolor\": \"white\", \"minorgridcolor\": \"white\", \"startlinecolor\": \"#2a3f5f\"}, \"baxis\": {\"endlinecolor\": \"#2a3f5f\", \"gridcolor\": \"white\", \"linecolor\": \"white\", \"minorgridcolor\": \"white\", \"startlinecolor\": \"#2a3f5f\"}, \"type\": \"carpet\"}], \"choropleth\": [{\"colorbar\": {\"outlinewidth\": 0, \"ticks\": \"\"}, \"type\": \"choropleth\"}], \"contour\": [{\"colorbar\": {\"outlinewidth\": 0, \"ticks\": \"\"}, \"colorscale\": [[0.0, \"#0d0887\"], [0.1111111111111111, \"#46039f\"], [0.2222222222222222, \"#7201a8\"], [0.3333333333333333, \"#9c179e\"], [0.4444444444444444, \"#bd3786\"], [0.5555555555555556, \"#d8576b\"], [0.6666666666666666, \"#ed7953\"], [0.7777777777777778, \"#fb9f3a\"], [0.8888888888888888, \"#fdca26\"], [1.0, \"#f0f921\"]], \"type\": \"contour\"}], \"contourcarpet\": [{\"colorbar\": {\"outlinewidth\": 0, \"ticks\": \"\"}, \"type\": \"contourcarpet\"}], \"heatmap\": [{\"colorbar\": {\"outlinewidth\": 0, \"ticks\": \"\"}, \"colorscale\": [[0.0, \"#0d0887\"], [0.1111111111111111, \"#46039f\"], [0.2222222222222222, \"#7201a8\"], [0.3333333333333333, \"#9c179e\"], [0.4444444444444444, \"#bd3786\"], [0.5555555555555556, \"#d8576b\"], [0.6666666666666666, \"#ed7953\"], [0.7777777777777778, \"#fb9f3a\"], [0.8888888888888888, \"#fdca26\"], [1.0, \"#f0f921\"]], \"type\": \"heatmap\"}], \"heatmapgl\": [{\"colorbar\": {\"outlinewidth\": 0, \"ticks\": \"\"}, \"colorscale\": [[0.0, \"#0d0887\"], [0.1111111111111111, \"#46039f\"], [0.2222222222222222, \"#7201a8\"], [0.3333333333333333, \"#9c179e\"], [0.4444444444444444, \"#bd3786\"], [0.5555555555555556, \"#d8576b\"], [0.6666666666666666, \"#ed7953\"], [0.7777777777777778, \"#fb9f3a\"], [0.8888888888888888, \"#fdca26\"], [1.0, \"#f0f921\"]], \"type\": \"heatmapgl\"}], \"histogram\": [{\"marker\": {\"colorbar\": {\"outlinewidth\": 0, \"ticks\": \"\"}}, \"type\": \"histogram\"}], \"histogram2d\": [{\"colorbar\": {\"outlinewidth\": 0, \"ticks\": \"\"}, \"colorscale\": [[0.0, \"#0d0887\"], [0.1111111111111111, \"#46039f\"], [0.2222222222222222, \"#7201a8\"], [0.3333333333333333, \"#9c179e\"], [0.4444444444444444, \"#bd3786\"], [0.5555555555555556, \"#d8576b\"], [0.6666666666666666, \"#ed7953\"], [0.7777777777777778, \"#fb9f3a\"], [0.8888888888888888, \"#fdca26\"], [1.0, \"#f0f921\"]], \"type\": \"histogram2d\"}], \"histogram2dcontour\": [{\"colorbar\": {\"outlinewidth\": 0, \"ticks\": \"\"}, \"colorscale\": [[0.0, \"#0d0887\"], [0.1111111111111111, \"#46039f\"], [0.2222222222222222, \"#7201a8\"], [0.3333333333333333, \"#9c179e\"], [0.4444444444444444, \"#bd3786\"], [0.5555555555555556, \"#d8576b\"], [0.6666666666666666, \"#ed7953\"], [0.7777777777777778, \"#fb9f3a\"], [0.8888888888888888, \"#fdca26\"], [1.0, \"#f0f921\"]], \"type\": \"histogram2dcontour\"}], \"mesh3d\": [{\"colorbar\": {\"outlinewidth\": 0, \"ticks\": \"\"}, \"type\": \"mesh3d\"}], \"parcoords\": [{\"line\": {\"colorbar\": {\"outlinewidth\": 0, \"ticks\": \"\"}}, \"type\": \"parcoords\"}], \"pie\": [{\"automargin\": true, \"type\": \"pie\"}], \"scatter\": [{\"marker\": {\"colorbar\": {\"outlinewidth\": 0, \"ticks\": \"\"}}, \"type\": \"scatter\"}], \"scatter3d\": [{\"line\": {\"colorbar\": {\"outlinewidth\": 0, \"ticks\": \"\"}}, \"marker\": {\"colorbar\": {\"outlinewidth\": 0, \"ticks\": \"\"}}, \"type\": \"scatter3d\"}], \"scattercarpet\": [{\"marker\": {\"colorbar\": {\"outlinewidth\": 0, \"ticks\": \"\"}}, \"type\": \"scattercarpet\"}], \"scattergeo\": [{\"marker\": {\"colorbar\": {\"outlinewidth\": 0, \"ticks\": \"\"}}, \"type\": \"scattergeo\"}], \"scattergl\": [{\"marker\": {\"colorbar\": {\"outlinewidth\": 0, \"ticks\": \"\"}}, \"type\": \"scattergl\"}], \"scattermapbox\": [{\"marker\": {\"colorbar\": {\"outlinewidth\": 0, \"ticks\": \"\"}}, \"type\": \"scattermapbox\"}], \"scatterpolar\": [{\"marker\": {\"colorbar\": {\"outlinewidth\": 0, \"ticks\": \"\"}}, \"type\": \"scatterpolar\"}], \"scatterpolargl\": [{\"marker\": {\"colorbar\": {\"outlinewidth\": 0, \"ticks\": \"\"}}, \"type\": \"scatterpolargl\"}], \"scatterternary\": [{\"marker\": {\"colorbar\": {\"outlinewidth\": 0, \"ticks\": \"\"}}, \"type\": \"scatterternary\"}], \"surface\": [{\"colorbar\": {\"outlinewidth\": 0, \"ticks\": \"\"}, \"colorscale\": [[0.0, \"#0d0887\"], [0.1111111111111111, \"#46039f\"], [0.2222222222222222, \"#7201a8\"], [0.3333333333333333, \"#9c179e\"], [0.4444444444444444, \"#bd3786\"], [0.5555555555555556, \"#d8576b\"], [0.6666666666666666, \"#ed7953\"], [0.7777777777777778, \"#fb9f3a\"], [0.8888888888888888, \"#fdca26\"], [1.0, \"#f0f921\"]], \"type\": \"surface\"}], \"table\": [{\"cells\": {\"fill\": {\"color\": \"#EBF0F8\"}, \"line\": {\"color\": \"white\"}}, \"header\": {\"fill\": {\"color\": \"#C8D4E3\"}, \"line\": {\"color\": \"white\"}}, \"type\": \"table\"}]}, \"layout\": {\"annotationdefaults\": {\"arrowcolor\": \"#2a3f5f\", \"arrowhead\": 0, \"arrowwidth\": 1}, \"coloraxis\": {\"colorbar\": {\"outlinewidth\": 0, \"ticks\": \"\"}}, \"colorscale\": {\"diverging\": [[0, \"#8e0152\"], [0.1, \"#c51b7d\"], [0.2, \"#de77ae\"], [0.3, \"#f1b6da\"], [0.4, \"#fde0ef\"], [0.5, \"#f7f7f7\"], [0.6, \"#e6f5d0\"], [0.7, \"#b8e186\"], [0.8, \"#7fbc41\"], [0.9, \"#4d9221\"], [1, \"#276419\"]], \"sequential\": [[0.0, \"#0d0887\"], [0.1111111111111111, \"#46039f\"], [0.2222222222222222, \"#7201a8\"], [0.3333333333333333, \"#9c179e\"], [0.4444444444444444, \"#bd3786\"], [0.5555555555555556, \"#d8576b\"], [0.6666666666666666, \"#ed7953\"], [0.7777777777777778, \"#fb9f3a\"], [0.8888888888888888, \"#fdca26\"], [1.0, \"#f0f921\"]], \"sequentialminus\": [[0.0, \"#0d0887\"], [0.1111111111111111, \"#46039f\"], [0.2222222222222222, \"#7201a8\"], [0.3333333333333333, \"#9c179e\"], [0.4444444444444444, \"#bd3786\"], [0.5555555555555556, \"#d8576b\"], [0.6666666666666666, \"#ed7953\"], [0.7777777777777778, \"#fb9f3a\"], [0.8888888888888888, \"#fdca26\"], [1.0, \"#f0f921\"]]}, \"colorway\": [\"#636efa\", \"#EF553B\", \"#00cc96\", \"#ab63fa\", \"#FFA15A\", \"#19d3f3\", \"#FF6692\", \"#B6E880\", \"#FF97FF\", \"#FECB52\"], \"font\": {\"color\": \"#2a3f5f\"}, \"geo\": {\"bgcolor\": \"white\", \"lakecolor\": \"white\", \"landcolor\": \"#E5ECF6\", \"showlakes\": true, \"showland\": true, \"subunitcolor\": \"white\"}, \"hoverlabel\": {\"align\": \"left\"}, \"hovermode\": \"closest\", \"mapbox\": {\"style\": \"light\"}, \"paper_bgcolor\": \"white\", \"plot_bgcolor\": \"#E5ECF6\", \"polar\": {\"angularaxis\": {\"gridcolor\": \"white\", \"linecolor\": \"white\", \"ticks\": \"\"}, \"bgcolor\": \"#E5ECF6\", \"radialaxis\": {\"gridcolor\": \"white\", \"linecolor\": \"white\", \"ticks\": \"\"}}, \"scene\": {\"xaxis\": {\"backgroundcolor\": \"#E5ECF6\", \"gridcolor\": \"white\", \"gridwidth\": 2, \"linecolor\": \"white\", \"showbackground\": true, \"ticks\": \"\", \"zerolinecolor\": \"white\"}, \"yaxis\": {\"backgroundcolor\": \"#E5ECF6\", \"gridcolor\": \"white\", \"gridwidth\": 2, \"linecolor\": \"white\", \"showbackground\": true, \"ticks\": \"\", \"zerolinecolor\": \"white\"}, \"zaxis\": {\"backgroundcolor\": \"#E5ECF6\", \"gridcolor\": \"white\", \"gridwidth\": 2, \"linecolor\": \"white\", \"showbackground\": true, \"ticks\": \"\", \"zerolinecolor\": \"white\"}}, \"shapedefaults\": {\"line\": {\"color\": \"#2a3f5f\"}}, \"ternary\": {\"aaxis\": {\"gridcolor\": \"white\", \"linecolor\": \"white\", \"ticks\": \"\"}, \"baxis\": {\"gridcolor\": \"white\", \"linecolor\": \"white\", \"ticks\": \"\"}, \"bgcolor\": \"#E5ECF6\", \"caxis\": {\"gridcolor\": \"white\", \"linecolor\": \"white\", \"ticks\": \"\"}}, \"title\": {\"x\": 0.05}, \"xaxis\": {\"automargin\": true, \"gridcolor\": \"white\", \"linecolor\": \"white\", \"ticks\": \"\", \"title\": {\"standoff\": 15}, \"zerolinecolor\": \"white\", \"zerolinewidth\": 2}, \"yaxis\": {\"automargin\": true, \"gridcolor\": \"white\", \"linecolor\": \"white\", \"ticks\": \"\", \"title\": {\"standoff\": 15}, \"zerolinecolor\": \"white\", \"zerolinewidth\": 2}}}, \"xaxis\": {\"anchor\": \"y\", \"domain\": [0.0, 1.0], \"title\": {\"text\": \"date\"}}, \"yaxis\": {\"anchor\": \"x\", \"domain\": [0.0, 1.0], \"title\": {\"text\": \"35-44\"}}},\n",
              "                        {\"responsive\": true}\n",
              "                    ).then(function(){\n",
              "                            \n",
              "var gd = document.getElementById('806e9fe8-a389-4078-bc24-2da4d1514b1d');\n",
              "var x = new MutationObserver(function (mutations, observer) {{\n",
              "        var display = window.getComputedStyle(gd).display;\n",
              "        if (!display || display === 'none') {{\n",
              "            console.log([gd, 'removed!']);\n",
              "            Plotly.purge(gd);\n",
              "            observer.disconnect();\n",
              "        }}\n",
              "}});\n",
              "\n",
              "// Listen for the removal of the full notebook cells\n",
              "var notebookContainer = gd.closest('#notebook-container');\n",
              "if (notebookContainer) {{\n",
              "    x.observe(notebookContainer, {childList: true});\n",
              "}}\n",
              "\n",
              "// Listen for the clearing of the current output cell\n",
              "var outputEl = gd.closest('.output');\n",
              "if (outputEl) {{\n",
              "    x.observe(outputEl, {childList: true});\n",
              "}}\n",
              "\n",
              "                        })\n",
              "                };\n",
              "                \n",
              "            </script>\n",
              "        </div>\n",
              "</body>\n",
              "</html>"
            ]
          },
          "metadata": {
            "tags": []
          }
        }
      ]
    },
    {
      "cell_type": "code",
      "metadata": {
        "colab": {
          "base_uri": "https://localhost:8080/",
          "height": 542
        },
        "id": "jHJ7EIeUVdx6",
        "outputId": "fe59ba0e-92dd-4ec9-97af-ccdc13537a8b"
      },
      "source": [
        "px.scatter(df[df.sex=='Female'],x='date',y='35-44',color='STATE')"
      ],
      "execution_count": null,
      "outputs": [
        {
          "output_type": "display_data",
          "data": {
            "text/html": [
              "<html>\n",
              "<head><meta charset=\"utf-8\" /></head>\n",
              "<body>\n",
              "    <div>\n",
              "            <script src=\"https://cdnjs.cloudflare.com/ajax/libs/mathjax/2.7.5/MathJax.js?config=TeX-AMS-MML_SVG\"></script><script type=\"text/javascript\">if (window.MathJax) {MathJax.Hub.Config({SVG: {font: \"STIX-Web\"}});}</script>\n",
              "                <script type=\"text/javascript\">window.PlotlyConfig = {MathJaxConfig: 'local'};</script>\n",
              "        <script src=\"https://cdn.plot.ly/plotly-latest.min.js\"></script>    \n",
              "            <div id=\"dc53fa74-a098-40eb-ae66-7b06855c3070\" class=\"plotly-graph-div\" style=\"height:525px; width:100%;\"></div>\n",
              "            <script type=\"text/javascript\">\n",
              "                \n",
              "                    window.PLOTLYENV=window.PLOTLYENV || {};\n",
              "                    \n",
              "                if (document.getElementById(\"dc53fa74-a098-40eb-ae66-7b06855c3070\")) {\n",
              "                    Plotly.newPlot(\n",
              "                        'dc53fa74-a098-40eb-ae66-7b06855c3070',\n",
              "                        [{\"hoverlabel\": {\"namelength\": 0}, \"hovertemplate\": \"STATE=NSW<br>date=%{x}<br>35-44=%{y}\", \"legendgroup\": \"STATE=NSW\", \"marker\": {\"color\": \"#636efa\", \"symbol\": \"circle\"}, \"mode\": \"markers\", \"name\": \"STATE=NSW\", \"showlegend\": true, \"type\": \"scatter\", \"x\": [\"2010-01-01T00:00:00\", \"2010-10-01T00:00:00\", \"2010-02-01T00:00:00\", \"2010-07-01T00:00:00\", \"2010-05-01T00:00:00\", \"2010-04-01T00:00:00\", \"2010-06-01T00:00:00\", \"2010-03-01T00:00:00\", \"2010-12-01T00:00:00\", \"2014-05-01T00:00:00\", \"2014-03-01T00:00:00\", \"2014-04-01T00:00:00\", \"2014-02-01T00:00:00\", \"2014-08-01T00:00:00\", \"2014-10-01T00:00:00\", \"2014-11-01T00:00:00\", \"2014-01-01T00:00:00\", \"2014-06-01T00:00:00\", \"2014-12-01T00:00:00\", \"2015-03-01T00:00:00\", \"2015-10-01T00:00:00\", \"2015-01-01T00:00:00\", \"2015-02-01T00:00:00\", \"2007-09-01T00:00:00\", \"2007-08-01T00:00:00\", \"2007-06-01T00:00:00\", \"2007-12-01T00:00:00\", \"2007-04-01T00:00:00\", \"2007-10-01T00:00:00\", \"2007-01-01T00:00:00\", \"2012-10-01T00:00:00\", \"2012-12-01T00:00:00\", \"2012-01-01T00:00:00\", \"2012-09-01T00:00:00\", \"2012-04-01T00:00:00\", \"2012-08-01T00:00:00\", \"2012-02-01T00:00:00\", \"2012-06-01T00:00:00\", \"2013-11-01T00:00:00\", \"2013-02-01T00:00:00\", \"2013-10-01T00:00:00\", \"2013-07-01T00:00:00\", \"2013-01-01T00:00:00\", \"2009-08-01T00:00:00\", \"2009-11-01T00:00:00\", \"2009-06-01T00:00:00\", \"2009-04-01T00:00:00\", \"2009-01-01T00:00:00\", \"2011-09-01T00:00:00\", \"2011-12-01T00:00:00\", \"2011-11-01T00:00:00\", \"2011-02-01T00:00:00\", \"2011-10-01T00:00:00\", \"2011-07-01T00:00:00\", \"2011-01-01T00:00:00\", \"2011-06-01T00:00:00\", \"2008-09-01T00:00:00\", \"2008-07-01T00:00:00\", \"2008-06-01T00:00:00\", \"2008-11-01T00:00:00\", \"2008-01-01T00:00:00\", \"2008-05-01T00:00:00\", \"2008-12-01T00:00:00\"], \"xaxis\": \"x\", \"y\": [34462.0, 36517.0, 34683.0, 35979.0, 35458.0, 35224.0, 35703.0, 35014.0, 36887.0, 45701.0, 45218.0, 45461.0, 44938.0, 46320.0, 46853.0, 47153.0, 44642.0, 45931.0, 47315.0, 47756.0, 49406.0, 47465.0, 47578.0, 29124.0, 26300.0, 24582.0, 30545.0, 23358.0, 29584.0, 22443.0, 40966.0, 41413.0, 41413.0, 40744.0, 39810.0, 40565.0, 39447.0, 40224.0, 44309.0, 41862.0, 44089.0, 43200.0, 44487.0, 33355.0, 34075.0, 32941.0, 32499.0, 31769.0, 38771.0, 39172.0, 39040.0, 37371.0, 38905.0, 38407.0, 37122.0, 38201.0, 34844.0, 34188.0, 33888.0, 31400.0, 30870.0, 33427.0, 31577.0], \"yaxis\": \"y\"}, {\"hoverlabel\": {\"namelength\": 0}, \"hovertemplate\": \"STATE=VIC<br>date=%{x}<br>35-44=%{y}\", \"legendgroup\": \"STATE=VIC\", \"marker\": {\"color\": \"#EF553B\", \"symbol\": \"circle\"}, \"mode\": \"markers\", \"name\": \"STATE=VIC\", \"showlegend\": true, \"type\": \"scatter\", \"x\": [\"2010-01-01T00:00:00\", \"2010-10-01T00:00:00\", \"2010-02-01T00:00:00\", \"2010-07-01T00:00:00\", \"2010-05-01T00:00:00\", \"2010-04-01T00:00:00\", \"2010-06-01T00:00:00\", \"2010-03-01T00:00:00\", \"2010-12-01T00:00:00\", \"2014-05-01T00:00:00\", \"2014-03-01T00:00:00\", \"2014-04-01T00:00:00\", \"2014-02-01T00:00:00\", \"2014-08-01T00:00:00\", \"2014-10-01T00:00:00\", \"2014-11-01T00:00:00\", \"2014-01-01T00:00:00\", \"2014-06-01T00:00:00\", \"2014-12-01T00:00:00\", \"2015-03-01T00:00:00\", \"2015-10-01T00:00:00\", \"2015-01-01T00:00:00\", \"2015-02-01T00:00:00\", \"2007-09-01T00:00:00\", \"2007-08-01T00:00:00\", \"2007-06-01T00:00:00\", \"2007-12-01T00:00:00\", \"2007-04-01T00:00:00\", \"2007-10-01T00:00:00\", \"2007-01-01T00:00:00\", \"2012-10-01T00:00:00\", \"2012-12-01T00:00:00\", \"2012-01-01T00:00:00\", \"2012-09-01T00:00:00\", \"2012-04-01T00:00:00\", \"2012-08-01T00:00:00\", \"2012-02-01T00:00:00\", \"2012-06-01T00:00:00\", \"2013-11-01T00:00:00\", \"2013-02-01T00:00:00\", \"2013-10-01T00:00:00\", \"2013-07-01T00:00:00\", \"2013-01-01T00:00:00\", \"2009-08-01T00:00:00\", \"2009-11-01T00:00:00\", \"2009-06-01T00:00:00\", \"2009-04-01T00:00:00\", \"2009-01-01T00:00:00\", \"2011-09-01T00:00:00\", \"2011-12-01T00:00:00\", \"2011-11-01T00:00:00\", \"2011-02-01T00:00:00\", \"2011-10-01T00:00:00\", \"2011-07-01T00:00:00\", \"2011-01-01T00:00:00\", \"2011-06-01T00:00:00\", \"2008-09-01T00:00:00\", \"2008-07-01T00:00:00\", \"2008-06-01T00:00:00\", \"2008-11-01T00:00:00\", \"2008-01-01T00:00:00\", \"2008-05-01T00:00:00\", \"2008-12-01T00:00:00\"], \"xaxis\": \"x\", \"y\": [42255.0, 45569.0, 42635.0, 44585.0, 43798.0, 43490.0, 44109.0, 43136.0, 46340.0, 58460.0, 58061.0, 58285.0, 57829.0, 58954.0, 59381.0, 59640.0, 57612.0, 58616.0, 59847.0, 60328.0, 61629.0, 60043.0, 60209.0, 30061.0, 29110.0, 28452.0, 31655.0, 26801.0, 30595.0, 25841.0, 54229.0, 54572.0, 54572.0, 54006.0, 52374.0, 53699.0, 51558.0, 53119.0, 57351.0, 54971.0, 57162.0, 56314.0, 57480.0, 40494.0, 41684.0, 39756.0, 39039.0, 37812.0, 49973.0, 50883.0, 50600.0, 47153.0, 50241.0, 49237.0, 46744.0, 48767.0, 36816.0, 36048.0, 35438.0, 37110.0, 32054.0, 34905.0, 37430.0], \"yaxis\": \"y\"}, {\"hoverlabel\": {\"namelength\": 0}, \"hovertemplate\": \"STATE=QLD<br>date=%{x}<br>35-44=%{y}\", \"legendgroup\": \"STATE=QLD\", \"marker\": {\"color\": \"#00cc96\", \"symbol\": \"circle\"}, \"mode\": \"markers\", \"name\": \"STATE=QLD\", \"showlegend\": true, \"type\": \"scatter\", \"x\": [\"2010-01-01T00:00:00\", \"2010-10-01T00:00:00\", \"2010-02-01T00:00:00\", \"2010-07-01T00:00:00\", \"2010-05-01T00:00:00\", \"2010-04-01T00:00:00\", \"2010-06-01T00:00:00\", \"2010-03-01T00:00:00\", \"2010-12-01T00:00:00\", \"2014-05-01T00:00:00\", \"2014-03-01T00:00:00\", \"2014-04-01T00:00:00\", \"2014-02-01T00:00:00\", \"2014-08-01T00:00:00\", \"2014-10-01T00:00:00\", \"2014-11-01T00:00:00\", \"2014-01-01T00:00:00\", \"2014-06-01T00:00:00\", \"2014-12-01T00:00:00\", \"2015-03-01T00:00:00\", \"2015-10-01T00:00:00\", \"2015-01-01T00:00:00\", \"2015-02-01T00:00:00\", \"2007-09-01T00:00:00\", \"2007-08-01T00:00:00\", \"2007-06-01T00:00:00\", \"2007-12-01T00:00:00\", \"2007-04-01T00:00:00\", \"2007-10-01T00:00:00\", \"2007-01-01T00:00:00\", \"2012-10-01T00:00:00\", \"2012-12-01T00:00:00\", \"2012-01-01T00:00:00\", \"2012-09-01T00:00:00\", \"2012-04-01T00:00:00\", \"2012-08-01T00:00:00\", \"2012-02-01T00:00:00\", \"2012-06-01T00:00:00\", \"2013-11-01T00:00:00\", \"2013-02-01T00:00:00\", \"2013-10-01T00:00:00\", \"2013-07-01T00:00:00\", \"2013-01-01T00:00:00\", \"2009-08-01T00:00:00\", \"2009-11-01T00:00:00\", \"2009-06-01T00:00:00\", \"2009-04-01T00:00:00\", \"2009-01-01T00:00:00\", \"2011-09-01T00:00:00\", \"2011-12-01T00:00:00\", \"2011-11-01T00:00:00\", \"2011-02-01T00:00:00\", \"2011-10-01T00:00:00\", \"2011-07-01T00:00:00\", \"2011-01-01T00:00:00\", \"2011-06-01T00:00:00\", \"2008-09-01T00:00:00\", \"2008-07-01T00:00:00\", \"2008-06-01T00:00:00\", \"2008-11-01T00:00:00\", \"2008-01-01T00:00:00\", \"2008-05-01T00:00:00\", \"2008-12-01T00:00:00\"], \"xaxis\": \"x\", \"y\": [35295.0, 37593.0, 35538.0, 36835.0, 36304.0, 36084.0, 36570.0, 35844.0, 37990.0, 44246.0, 44080.0, 44166.0, 43874.0, 44461.0, 44772.0, 44941.0, 43775.0, 44273.0, 44999.0, 45333.0, 46721.0, 45102.0, 45211.0, 23623.0, 24655.0, 24435.0, 25038.0, 22659.0, 24114.0, 21480.0, 42079.0, 42317.0, 42317.0, 41924.0, 41223.0, 41849.0, 40936.0, 41534.0, 43654.0, 42524.0, 43627.0, 43288.0, 43706.0, 34119.0, 34883.0, 33699.0, 33339.0, 32535.0, 40116.0, 40537.0, 40416.0, 38468.0, 40246.0, 39701.0, 38233.0, 39439.0, 29264.0, 28673.0, 28233.0, 32063.0, 25355.0, 27775.0, 32273.0], \"yaxis\": \"y\"}, {\"hoverlabel\": {\"namelength\": 0}, \"hovertemplate\": \"STATE=SA<br>date=%{x}<br>35-44=%{y}\", \"legendgroup\": \"STATE=SA\", \"marker\": {\"color\": \"#ab63fa\", \"symbol\": \"circle\"}, \"mode\": \"markers\", \"name\": \"STATE=SA\", \"showlegend\": true, \"type\": \"scatter\", \"x\": [\"2010-01-01T00:00:00\", \"2010-10-01T00:00:00\", \"2010-02-01T00:00:00\", \"2010-07-01T00:00:00\", \"2010-05-01T00:00:00\", \"2010-04-01T00:00:00\", \"2010-06-01T00:00:00\", \"2010-03-01T00:00:00\", \"2010-12-01T00:00:00\", \"2014-05-01T00:00:00\", \"2014-03-01T00:00:00\", \"2014-04-01T00:00:00\", \"2014-02-01T00:00:00\", \"2014-08-01T00:00:00\", \"2014-10-01T00:00:00\", \"2014-11-01T00:00:00\", \"2014-01-01T00:00:00\", \"2014-06-01T00:00:00\", \"2014-12-01T00:00:00\", \"2015-03-01T00:00:00\", \"2015-10-01T00:00:00\", \"2015-01-01T00:00:00\", \"2015-02-01T00:00:00\", \"2007-09-01T00:00:00\", \"2007-08-01T00:00:00\", \"2007-06-01T00:00:00\", \"2007-12-01T00:00:00\", \"2007-04-01T00:00:00\", \"2007-10-01T00:00:00\", \"2007-01-01T00:00:00\", \"2012-10-01T00:00:00\", \"2012-12-01T00:00:00\", \"2012-01-01T00:00:00\", \"2012-09-01T00:00:00\", \"2012-04-01T00:00:00\", \"2012-08-01T00:00:00\", \"2012-02-01T00:00:00\", \"2012-06-01T00:00:00\", \"2013-11-01T00:00:00\", \"2013-02-01T00:00:00\", \"2013-10-01T00:00:00\", \"2013-07-01T00:00:00\", \"2013-01-01T00:00:00\", \"2009-08-01T00:00:00\", \"2009-11-01T00:00:00\", \"2009-06-01T00:00:00\", \"2009-04-01T00:00:00\", \"2009-01-01T00:00:00\", \"2011-09-01T00:00:00\", \"2011-12-01T00:00:00\", \"2011-11-01T00:00:00\", \"2011-02-01T00:00:00\", \"2011-10-01T00:00:00\", \"2011-07-01T00:00:00\", \"2011-01-01T00:00:00\", \"2011-06-01T00:00:00\", \"2008-09-01T00:00:00\", \"2008-07-01T00:00:00\", \"2008-06-01T00:00:00\", \"2008-11-01T00:00:00\", \"2008-01-01T00:00:00\", \"2008-05-01T00:00:00\", \"2008-12-01T00:00:00\"], \"xaxis\": \"x\", \"y\": [13492.0, 14458.0, 13619.0, 14230.0, 13971.0, 13917.0, 14082.0, 13786.0, 14674.0, 18890.0, 18777.0, 18833.0, 18675.0, 19069.0, 19199.0, 19267.0, 18591.0, 18958.0, 19312.0, 19473.0, 19786.0, 19367.0, 19400.0, 8016.0, 8509.0, 8216.0, 8418.0, 7652.0, 8117.0, 7210.0, 17358.0, 17477.0, 17477.0, 17227.0, 16617.0, 17130.0, 16453.0, 16907.0, 18516.0, 17606.0, 18453.0, 18110.0, 18566.0, 12934.0, 13335.0, 12576.0, 12279.0, 11769.0, 15870.0, 16233.0, 16131.0, 14962.0, 15982.0, 15576.0, 14854.0, 15481.0, 10469.0, 10079.0, 9838.0, 11442.0, 8528.0, 9589.0, 11589.0], \"yaxis\": \"y\"}, {\"hoverlabel\": {\"namelength\": 0}, \"hovertemplate\": \"STATE=WA<br>date=%{x}<br>35-44=%{y}\", \"legendgroup\": \"STATE=WA\", \"marker\": {\"color\": \"#FFA15A\", \"symbol\": \"circle\"}, \"mode\": \"markers\", \"name\": \"STATE=WA\", \"showlegend\": true, \"type\": \"scatter\", \"x\": [\"2010-01-01T00:00:00\", \"2010-10-01T00:00:00\", \"2010-02-01T00:00:00\", \"2010-07-01T00:00:00\", \"2010-05-01T00:00:00\", \"2010-04-01T00:00:00\", \"2010-06-01T00:00:00\", \"2010-03-01T00:00:00\", \"2010-12-01T00:00:00\", \"2014-05-01T00:00:00\", \"2014-03-01T00:00:00\", \"2014-04-01T00:00:00\", \"2014-02-01T00:00:00\", \"2014-08-01T00:00:00\", \"2014-10-01T00:00:00\", \"2014-11-01T00:00:00\", \"2014-01-01T00:00:00\", \"2014-06-01T00:00:00\", \"2014-12-01T00:00:00\", \"2015-03-01T00:00:00\", \"2015-10-01T00:00:00\", \"2015-01-01T00:00:00\", \"2015-02-01T00:00:00\", \"2007-09-01T00:00:00\", \"2007-08-01T00:00:00\", \"2007-06-01T00:00:00\", \"2007-12-01T00:00:00\", \"2007-04-01T00:00:00\", \"2007-10-01T00:00:00\", \"2007-01-01T00:00:00\", \"2012-10-01T00:00:00\", \"2012-12-01T00:00:00\", \"2012-01-01T00:00:00\", \"2012-09-01T00:00:00\", \"2012-04-01T00:00:00\", \"2012-08-01T00:00:00\", \"2012-02-01T00:00:00\", \"2012-06-01T00:00:00\", \"2013-11-01T00:00:00\", \"2013-02-01T00:00:00\", \"2013-10-01T00:00:00\", \"2013-07-01T00:00:00\", \"2013-01-01T00:00:00\", \"2009-08-01T00:00:00\", \"2009-11-01T00:00:00\", \"2009-06-01T00:00:00\", \"2009-04-01T00:00:00\", \"2009-01-01T00:00:00\", \"2011-09-01T00:00:00\", \"2011-12-01T00:00:00\", \"2011-11-01T00:00:00\", \"2011-02-01T00:00:00\", \"2011-10-01T00:00:00\", \"2011-07-01T00:00:00\", \"2011-01-01T00:00:00\", \"2011-06-01T00:00:00\", \"2008-09-01T00:00:00\", \"2008-07-01T00:00:00\", \"2008-06-01T00:00:00\", \"2008-11-01T00:00:00\", \"2008-01-01T00:00:00\", \"2008-05-01T00:00:00\", \"2008-12-01T00:00:00\"], \"xaxis\": \"x\", \"y\": [27386.0, 29264.0, 27594.0, 28783.0, 28334.0, 28129.0, 28507.0, 27881.0, 29644.0, 34868.0, 34697.0, 34793.0, 34552.0, 35006.0, 35120.0, 35158.0, 34453.0, 34929.0, 35230.0, 35371.0, 36027.0, 35243.0, 35281.0, 17134.0, 17822.0, 17751.0, 17999.0, 16568.0, 17357.0, 15629.0, 33203.0, 33324.0, 33324.0, 33127.0, 32345.0, 33010.0, 32080.0, 32752.0, 34297.0, 33484.0, 34231.0, 33976.0, 34359.0, 26168.0, 27006.0, 25730.0, 25259.0, 24401.0, 31393.0, 31828.0, 31728.0, 30013.0, 31623.0, 31005.0, 29848.0, 30851.0, 21986.0, 21410.0, 20971.0, 23975.0, 18299.0, 20455.0, 24184.0], \"yaxis\": \"y\"}, {\"hoverlabel\": {\"namelength\": 0}, \"hovertemplate\": \"STATE=TAS<br>date=%{x}<br>35-44=%{y}\", \"legendgroup\": \"STATE=TAS\", \"marker\": {\"color\": \"#19d3f3\", \"symbol\": \"circle\"}, \"mode\": \"markers\", \"name\": \"STATE=TAS\", \"showlegend\": true, \"type\": \"scatter\", \"x\": [\"2010-01-01T00:00:00\", \"2010-10-01T00:00:00\", \"2010-02-01T00:00:00\", \"2010-07-01T00:00:00\", \"2010-05-01T00:00:00\", \"2010-04-01T00:00:00\", \"2010-06-01T00:00:00\", \"2010-03-01T00:00:00\", \"2010-12-01T00:00:00\", \"2014-05-01T00:00:00\", \"2014-03-01T00:00:00\", \"2014-04-01T00:00:00\", \"2014-02-01T00:00:00\", \"2014-08-01T00:00:00\", \"2014-10-01T00:00:00\", \"2014-11-01T00:00:00\", \"2014-01-01T00:00:00\", \"2014-06-01T00:00:00\", \"2014-12-01T00:00:00\", \"2015-03-01T00:00:00\", \"2015-10-01T00:00:00\", \"2015-01-01T00:00:00\", \"2015-02-01T00:00:00\", \"2007-09-01T00:00:00\", \"2007-08-01T00:00:00\", \"2007-06-01T00:00:00\", \"2007-12-01T00:00:00\", \"2007-04-01T00:00:00\", \"2007-10-01T00:00:00\", \"2007-01-01T00:00:00\", \"2012-10-01T00:00:00\", \"2012-12-01T00:00:00\", \"2012-01-01T00:00:00\", \"2012-09-01T00:00:00\", \"2012-04-01T00:00:00\", \"2012-08-01T00:00:00\", \"2012-02-01T00:00:00\", \"2012-06-01T00:00:00\", \"2013-11-01T00:00:00\", \"2013-02-01T00:00:00\", \"2013-10-01T00:00:00\", \"2013-07-01T00:00:00\", \"2013-01-01T00:00:00\", \"2009-08-01T00:00:00\", \"2009-11-01T00:00:00\", \"2009-06-01T00:00:00\", \"2009-04-01T00:00:00\", \"2009-01-01T00:00:00\", \"2011-09-01T00:00:00\", \"2011-12-01T00:00:00\", \"2011-11-01T00:00:00\", \"2011-02-01T00:00:00\", \"2011-10-01T00:00:00\", \"2011-07-01T00:00:00\", \"2011-01-01T00:00:00\", \"2011-06-01T00:00:00\", \"2008-09-01T00:00:00\", \"2008-07-01T00:00:00\", \"2008-06-01T00:00:00\", \"2008-11-01T00:00:00\", \"2008-01-01T00:00:00\", \"2008-05-01T00:00:00\", \"2008-12-01T00:00:00\"], \"xaxis\": \"x\", \"y\": [4965.0, 5352.0, 4999.0, 5244.0, 5188.0, 5103.0, 5214.0, 5056.0, 5401.0, 6147.0, 6092.0, 6105.0, 6081.0, 6166.0, 6182.0, 6176.0, 6069.0, 6150.0, 6193.0, 6180.0, 6294.0, 6172.0, 6171.0, 2540.0, 2927.0, 2803.0, 2997.0, 2640.0, 2733.0, 2512.0, 5916.0, 5962.0, 5962.0, 5892.0, 5708.0, 5870.0, 5622.0, 5800.0, 6098.0, 6010.0, 6102.0, 6124.0, 6093.0, 4814.0, 4915.0, 4798.0, 4734.0, 4643.0, 5635.0, 5631.0, 5631.0, 5433.0, 5629.0, 5617.0, 5425.0, 5599.0, 3934.0, 3871.0, 3798.0, 4577.0, 3088.0, 3702.0, 4612.0], \"yaxis\": \"y\"}, {\"hoverlabel\": {\"namelength\": 0}, \"hovertemplate\": \"STATE=NT<br>date=%{x}<br>35-44=%{y}\", \"legendgroup\": \"STATE=NT\", \"marker\": {\"color\": \"#FF6692\", \"symbol\": \"circle\"}, \"mode\": \"markers\", \"name\": \"STATE=NT\", \"showlegend\": true, \"type\": \"scatter\", \"x\": [\"2010-01-01T00:00:00\", \"2010-10-01T00:00:00\", \"2010-02-01T00:00:00\", \"2010-07-01T00:00:00\", \"2010-05-01T00:00:00\", \"2010-04-01T00:00:00\", \"2010-06-01T00:00:00\", \"2010-03-01T00:00:00\", \"2010-12-01T00:00:00\", \"2014-05-01T00:00:00\", \"2014-03-01T00:00:00\", \"2014-04-01T00:00:00\", \"2014-02-01T00:00:00\", \"2014-08-01T00:00:00\", \"2014-10-01T00:00:00\", \"2014-11-01T00:00:00\", \"2014-01-01T00:00:00\", \"2014-06-01T00:00:00\", \"2014-12-01T00:00:00\", \"2015-03-01T00:00:00\", \"2015-10-01T00:00:00\", \"2015-01-01T00:00:00\", \"2015-02-01T00:00:00\", \"2007-09-01T00:00:00\", \"2007-08-01T00:00:00\", \"2007-06-01T00:00:00\", \"2007-12-01T00:00:00\", \"2007-04-01T00:00:00\", \"2007-10-01T00:00:00\", \"2007-01-01T00:00:00\", \"2012-10-01T00:00:00\", \"2012-12-01T00:00:00\", \"2012-01-01T00:00:00\", \"2012-09-01T00:00:00\", \"2012-04-01T00:00:00\", \"2012-08-01T00:00:00\", \"2012-02-01T00:00:00\", \"2012-06-01T00:00:00\", \"2013-11-01T00:00:00\", \"2013-02-01T00:00:00\", \"2013-10-01T00:00:00\", \"2013-07-01T00:00:00\", \"2013-01-01T00:00:00\", \"2009-08-01T00:00:00\", \"2009-11-01T00:00:00\", \"2009-06-01T00:00:00\", \"2009-04-01T00:00:00\", \"2009-01-01T00:00:00\", \"2011-09-01T00:00:00\", \"2011-12-01T00:00:00\", \"2011-11-01T00:00:00\", \"2011-02-01T00:00:00\", \"2011-10-01T00:00:00\", \"2011-07-01T00:00:00\", \"2011-01-01T00:00:00\", \"2011-06-01T00:00:00\", \"2008-09-01T00:00:00\", \"2008-07-01T00:00:00\", \"2008-06-01T00:00:00\", \"2008-11-01T00:00:00\", \"2008-01-01T00:00:00\", \"2008-05-01T00:00:00\", \"2008-12-01T00:00:00\"], \"xaxis\": \"x\", \"y\": [1526.0, 1665.0, 1546.0, 1627.0, 1593.0, 1590.0, 1602.0, 1566.0, 1674.0, 2078.0, 2068.0, 2076.0, 2083.0, 2084.0, 2085.0, 2077.0, 2083.0, 2089.0, 2082.0, 2085.0, 2137.0, 2084.0, 2079.0, 1177.0, 880.0, 807.0, 1270.0, 753.0, 1211.0, 704.0, 1938.0, 1953.0, 1953.0, 1929.0, 1879.0, 1912.0, 1882.0, 1895.0, 2086.0, 1978.0, 2089.0, 2046.0, 2086.0, 1457.0, 1508.0, 1409.0, 1357.0, 1315.0, 1813.0, 1865.0, 1852.0, 1702.0, 1828.0, 1798.0, 1695.0, 1774.0, 1609.0, 1525.0, 1502.0, 1300.0, 1302.0, 1470.0, 1313.0], \"yaxis\": \"y\"}, {\"hoverlabel\": {\"namelength\": 0}, \"hovertemplate\": \"STATE=ACT<br>date=%{x}<br>35-44=%{y}\", \"legendgroup\": \"STATE=ACT\", \"marker\": {\"color\": \"#B6E880\", \"symbol\": \"circle\"}, \"mode\": \"markers\", \"name\": \"STATE=ACT\", \"showlegend\": true, \"type\": \"scatter\", \"x\": [\"2010-01-01T00:00:00\", \"2010-10-01T00:00:00\", \"2010-02-01T00:00:00\", \"2010-07-01T00:00:00\", \"2010-05-01T00:00:00\", \"2010-04-01T00:00:00\", \"2010-06-01T00:00:00\", \"2010-03-01T00:00:00\", \"2010-12-01T00:00:00\", \"2014-05-01T00:00:00\", \"2014-03-01T00:00:00\", \"2014-04-01T00:00:00\", \"2014-02-01T00:00:00\", \"2014-08-01T00:00:00\", \"2014-10-01T00:00:00\", \"2014-11-01T00:00:00\", \"2014-01-01T00:00:00\", \"2014-06-01T00:00:00\", \"2014-12-01T00:00:00\", \"2015-03-01T00:00:00\", \"2015-10-01T00:00:00\", \"2015-01-01T00:00:00\", \"2015-02-01T00:00:00\", \"2007-09-01T00:00:00\", \"2007-08-01T00:00:00\", \"2007-06-01T00:00:00\", \"2007-12-01T00:00:00\", \"2007-04-01T00:00:00\", \"2007-10-01T00:00:00\", \"2007-01-01T00:00:00\", \"2012-10-01T00:00:00\", \"2012-12-01T00:00:00\", \"2012-01-01T00:00:00\", \"2012-09-01T00:00:00\", \"2012-04-01T00:00:00\", \"2012-08-01T00:00:00\", \"2012-02-01T00:00:00\", \"2012-06-01T00:00:00\", \"2013-11-01T00:00:00\", \"2013-02-01T00:00:00\", \"2013-10-01T00:00:00\", \"2013-07-01T00:00:00\", \"2013-01-01T00:00:00\", \"2009-08-01T00:00:00\", \"2009-11-01T00:00:00\", \"2009-06-01T00:00:00\", \"2009-04-01T00:00:00\", \"2009-01-01T00:00:00\", \"2011-09-01T00:00:00\", \"2011-12-01T00:00:00\", \"2011-11-01T00:00:00\", \"2011-02-01T00:00:00\", \"2011-10-01T00:00:00\", \"2011-07-01T00:00:00\", \"2011-01-01T00:00:00\", \"2011-06-01T00:00:00\", \"2008-09-01T00:00:00\", \"2008-07-01T00:00:00\", \"2008-06-01T00:00:00\", \"2008-11-01T00:00:00\", \"2008-01-01T00:00:00\", \"2008-05-01T00:00:00\", \"2008-12-01T00:00:00\"], \"xaxis\": \"x\", \"y\": [3413.0, 3753.0, 3455.0, 3641.0, 3546.0, 3519.0, 3589.0, 3497.0, 3795.0, 5173.0, 5115.0, 5150.0, 5049.0, 5219.0, 5289.0, 5307.0, 5020.0, 5170.0, 5336.0, 5395.0, 5551.0, 5354.0, 5371.0, 2127.0, 2013.0, 2021.0, 2241.0, 1882.0, 2160.0, 1691.0, 4567.0, 4622.0, 4622.0, 4536.0, 4355.0, 4502.0, 4262.0, 4417.0, 4978.0, 4714.0, 4964.0, 4848.0, 4994.0, 3256.0, 3360.0, 3207.0, 3154.0, 3008.0, 4120.0, 4188.0, 4163.0, 3854.0, 4144.0, 4058.0, 3814.0, 4013.0, 2786.0, 2691.0, 2661.0, 2951.0, 2272.0, 2612.0, 2968.0], \"yaxis\": \"y\"}, {\"hoverlabel\": {\"namelength\": 0}, \"hovertemplate\": \"STATE=TOTAL<br>date=%{x}<br>35-44=%{y}\", \"legendgroup\": \"STATE=TOTAL\", \"marker\": {\"color\": \"#FF97FF\", \"symbol\": \"circle\"}, \"mode\": \"markers\", \"name\": \"STATE=TOTAL\", \"showlegend\": true, \"type\": \"scatter\", \"x\": [\"2010-01-01T00:00:00\", \"2010-10-01T00:00:00\", \"2010-02-01T00:00:00\", \"2010-07-01T00:00:00\", \"2010-05-01T00:00:00\", \"2010-04-01T00:00:00\", \"2010-06-01T00:00:00\", \"2010-03-01T00:00:00\", \"2010-12-01T00:00:00\", \"2014-05-01T00:00:00\", \"2014-03-01T00:00:00\", \"2014-04-01T00:00:00\", \"2014-02-01T00:00:00\", \"2014-08-01T00:00:00\", \"2014-10-01T00:00:00\", \"2014-11-01T00:00:00\", \"2014-01-01T00:00:00\", \"2014-06-01T00:00:00\", \"2014-12-01T00:00:00\", \"2015-03-01T00:00:00\", \"2015-10-01T00:00:00\", \"2015-01-01T00:00:00\", \"2015-02-01T00:00:00\", \"2007-09-01T00:00:00\", \"2007-08-01T00:00:00\", \"2007-06-01T00:00:00\", \"2007-12-01T00:00:00\", \"2007-04-01T00:00:00\", \"2007-10-01T00:00:00\", \"2007-01-01T00:00:00\", \"2012-10-01T00:00:00\", \"2012-12-01T00:00:00\", \"2012-01-01T00:00:00\", \"2012-09-01T00:00:00\", \"2012-04-01T00:00:00\", \"2012-08-01T00:00:00\", \"2012-02-01T00:00:00\", \"2012-06-01T00:00:00\", \"2013-11-01T00:00:00\", \"2013-02-01T00:00:00\", \"2013-10-01T00:00:00\", \"2013-07-01T00:00:00\", \"2013-01-01T00:00:00\", \"2009-08-01T00:00:00\", \"2009-11-01T00:00:00\", \"2009-06-01T00:00:00\", \"2009-04-01T00:00:00\", \"2009-01-01T00:00:00\", \"2011-09-01T00:00:00\", \"2011-12-01T00:00:00\", \"2011-11-01T00:00:00\", \"2011-02-01T00:00:00\", \"2011-10-01T00:00:00\", \"2011-07-01T00:00:00\", \"2011-01-01T00:00:00\", \"2011-06-01T00:00:00\", \"2008-09-01T00:00:00\", \"2008-07-01T00:00:00\", \"2008-06-01T00:00:00\", \"2008-11-01T00:00:00\", \"2008-01-01T00:00:00\", \"2008-05-01T00:00:00\", \"2008-12-01T00:00:00\"], \"xaxis\": \"x\", \"y\": [162794.0, 174171.0, 164069.0, 170924.0, 168192.0, 167056.0, 169376.0, 165780.0, 176405.0, 215563.0, 214108.0, 214869.0, 213081.0, 21779.0, 218881.0, 219719.0, 212245.0, 216116.0, 220314.0, 221921.0, 227551.0, 220830.0, 221300.0, 113802.0, 112216.0, 109073.0, 120163.0, 4.0, 115871.0, 97514.0, 200256.0, 201640.0, 201640.0, 199385.0, 194311.0, 198537.0, 192240.0, 196648.0, 211289.0, 203149.0, 210717.0, 207906.0, 211771.0, 156597.0, 160766.0, 154116.0, 151660.0, 147252.0, 187691.0, 190337.0, 189561.0, 178956.0, 188598.0, 185399.0, 177735.0, 184125.0, 141708.0, 138485.0, 136329.0, 144818.0, 121768.0, 133935.0, 145946.0], \"yaxis\": \"y\"}, {\"hoverlabel\": {\"namelength\": 0}, \"hovertemplate\": \"STATE=Other<br>date=%{x}<br>35-44=%{y}\", \"legendgroup\": \"STATE=Other\", \"marker\": {\"color\": \"#FECB52\", \"symbol\": \"circle\"}, \"mode\": \"markers\", \"name\": \"STATE=Other\", \"showlegend\": true, \"type\": \"scatter\", \"x\": [\"2007-06-01T00:00:00\", \"2007-01-01T00:00:00\"], \"xaxis\": \"x\", \"y\": [6.0, 4.0], \"yaxis\": \"y\"}],\n",
              "                        {\"legend\": {\"tracegroupgap\": 0}, \"margin\": {\"t\": 60}, \"template\": {\"data\": {\"bar\": [{\"error_x\": {\"color\": \"#2a3f5f\"}, \"error_y\": {\"color\": \"#2a3f5f\"}, \"marker\": {\"line\": {\"color\": \"#E5ECF6\", \"width\": 0.5}}, \"type\": \"bar\"}], \"barpolar\": [{\"marker\": {\"line\": {\"color\": \"#E5ECF6\", \"width\": 0.5}}, \"type\": \"barpolar\"}], \"carpet\": [{\"aaxis\": {\"endlinecolor\": \"#2a3f5f\", \"gridcolor\": \"white\", \"linecolor\": \"white\", \"minorgridcolor\": \"white\", \"startlinecolor\": \"#2a3f5f\"}, \"baxis\": {\"endlinecolor\": \"#2a3f5f\", \"gridcolor\": \"white\", \"linecolor\": \"white\", \"minorgridcolor\": \"white\", \"startlinecolor\": \"#2a3f5f\"}, \"type\": \"carpet\"}], \"choropleth\": [{\"colorbar\": {\"outlinewidth\": 0, \"ticks\": \"\"}, \"type\": \"choropleth\"}], \"contour\": [{\"colorbar\": {\"outlinewidth\": 0, \"ticks\": \"\"}, \"colorscale\": [[0.0, \"#0d0887\"], [0.1111111111111111, \"#46039f\"], [0.2222222222222222, \"#7201a8\"], [0.3333333333333333, \"#9c179e\"], [0.4444444444444444, \"#bd3786\"], [0.5555555555555556, \"#d8576b\"], [0.6666666666666666, \"#ed7953\"], [0.7777777777777778, \"#fb9f3a\"], [0.8888888888888888, \"#fdca26\"], [1.0, \"#f0f921\"]], \"type\": \"contour\"}], \"contourcarpet\": [{\"colorbar\": {\"outlinewidth\": 0, \"ticks\": \"\"}, \"type\": \"contourcarpet\"}], \"heatmap\": [{\"colorbar\": {\"outlinewidth\": 0, \"ticks\": \"\"}, \"colorscale\": [[0.0, \"#0d0887\"], [0.1111111111111111, \"#46039f\"], [0.2222222222222222, \"#7201a8\"], [0.3333333333333333, \"#9c179e\"], [0.4444444444444444, \"#bd3786\"], [0.5555555555555556, \"#d8576b\"], [0.6666666666666666, \"#ed7953\"], [0.7777777777777778, \"#fb9f3a\"], [0.8888888888888888, \"#fdca26\"], [1.0, \"#f0f921\"]], \"type\": \"heatmap\"}], \"heatmapgl\": [{\"colorbar\": {\"outlinewidth\": 0, \"ticks\": \"\"}, \"colorscale\": [[0.0, \"#0d0887\"], [0.1111111111111111, \"#46039f\"], [0.2222222222222222, \"#7201a8\"], [0.3333333333333333, \"#9c179e\"], [0.4444444444444444, \"#bd3786\"], [0.5555555555555556, \"#d8576b\"], [0.6666666666666666, \"#ed7953\"], [0.7777777777777778, \"#fb9f3a\"], [0.8888888888888888, \"#fdca26\"], [1.0, \"#f0f921\"]], \"type\": \"heatmapgl\"}], \"histogram\": [{\"marker\": {\"colorbar\": {\"outlinewidth\": 0, \"ticks\": \"\"}}, \"type\": \"histogram\"}], \"histogram2d\": [{\"colorbar\": {\"outlinewidth\": 0, \"ticks\": \"\"}, \"colorscale\": [[0.0, \"#0d0887\"], [0.1111111111111111, \"#46039f\"], [0.2222222222222222, \"#7201a8\"], [0.3333333333333333, \"#9c179e\"], [0.4444444444444444, \"#bd3786\"], [0.5555555555555556, \"#d8576b\"], [0.6666666666666666, \"#ed7953\"], [0.7777777777777778, \"#fb9f3a\"], [0.8888888888888888, \"#fdca26\"], [1.0, \"#f0f921\"]], \"type\": \"histogram2d\"}], \"histogram2dcontour\": [{\"colorbar\": {\"outlinewidth\": 0, \"ticks\": \"\"}, \"colorscale\": [[0.0, \"#0d0887\"], [0.1111111111111111, \"#46039f\"], [0.2222222222222222, \"#7201a8\"], [0.3333333333333333, \"#9c179e\"], [0.4444444444444444, \"#bd3786\"], [0.5555555555555556, \"#d8576b\"], [0.6666666666666666, \"#ed7953\"], [0.7777777777777778, \"#fb9f3a\"], [0.8888888888888888, \"#fdca26\"], [1.0, \"#f0f921\"]], \"type\": \"histogram2dcontour\"}], \"mesh3d\": [{\"colorbar\": {\"outlinewidth\": 0, \"ticks\": \"\"}, \"type\": \"mesh3d\"}], \"parcoords\": [{\"line\": {\"colorbar\": {\"outlinewidth\": 0, \"ticks\": \"\"}}, \"type\": \"parcoords\"}], \"pie\": [{\"automargin\": true, \"type\": \"pie\"}], \"scatter\": [{\"marker\": {\"colorbar\": {\"outlinewidth\": 0, \"ticks\": \"\"}}, \"type\": \"scatter\"}], \"scatter3d\": [{\"line\": {\"colorbar\": {\"outlinewidth\": 0, \"ticks\": \"\"}}, \"marker\": {\"colorbar\": {\"outlinewidth\": 0, \"ticks\": \"\"}}, \"type\": \"scatter3d\"}], \"scattercarpet\": [{\"marker\": {\"colorbar\": {\"outlinewidth\": 0, \"ticks\": \"\"}}, \"type\": \"scattercarpet\"}], \"scattergeo\": [{\"marker\": {\"colorbar\": {\"outlinewidth\": 0, \"ticks\": \"\"}}, \"type\": \"scattergeo\"}], \"scattergl\": [{\"marker\": {\"colorbar\": {\"outlinewidth\": 0, \"ticks\": \"\"}}, \"type\": \"scattergl\"}], \"scattermapbox\": [{\"marker\": {\"colorbar\": {\"outlinewidth\": 0, \"ticks\": \"\"}}, \"type\": \"scattermapbox\"}], \"scatterpolar\": [{\"marker\": {\"colorbar\": {\"outlinewidth\": 0, \"ticks\": \"\"}}, \"type\": \"scatterpolar\"}], \"scatterpolargl\": [{\"marker\": {\"colorbar\": {\"outlinewidth\": 0, \"ticks\": \"\"}}, \"type\": \"scatterpolargl\"}], \"scatterternary\": [{\"marker\": {\"colorbar\": {\"outlinewidth\": 0, \"ticks\": \"\"}}, \"type\": \"scatterternary\"}], \"surface\": [{\"colorbar\": {\"outlinewidth\": 0, \"ticks\": \"\"}, \"colorscale\": [[0.0, \"#0d0887\"], [0.1111111111111111, \"#46039f\"], [0.2222222222222222, \"#7201a8\"], [0.3333333333333333, \"#9c179e\"], [0.4444444444444444, \"#bd3786\"], [0.5555555555555556, \"#d8576b\"], [0.6666666666666666, \"#ed7953\"], [0.7777777777777778, \"#fb9f3a\"], [0.8888888888888888, \"#fdca26\"], [1.0, \"#f0f921\"]], \"type\": \"surface\"}], \"table\": [{\"cells\": {\"fill\": {\"color\": \"#EBF0F8\"}, \"line\": {\"color\": \"white\"}}, \"header\": {\"fill\": {\"color\": \"#C8D4E3\"}, \"line\": {\"color\": \"white\"}}, \"type\": \"table\"}]}, \"layout\": {\"annotationdefaults\": {\"arrowcolor\": \"#2a3f5f\", \"arrowhead\": 0, \"arrowwidth\": 1}, \"coloraxis\": {\"colorbar\": {\"outlinewidth\": 0, \"ticks\": \"\"}}, \"colorscale\": {\"diverging\": [[0, \"#8e0152\"], [0.1, \"#c51b7d\"], [0.2, \"#de77ae\"], [0.3, \"#f1b6da\"], [0.4, \"#fde0ef\"], [0.5, \"#f7f7f7\"], [0.6, \"#e6f5d0\"], [0.7, \"#b8e186\"], [0.8, \"#7fbc41\"], [0.9, \"#4d9221\"], [1, \"#276419\"]], \"sequential\": [[0.0, \"#0d0887\"], [0.1111111111111111, \"#46039f\"], [0.2222222222222222, \"#7201a8\"], [0.3333333333333333, \"#9c179e\"], [0.4444444444444444, \"#bd3786\"], [0.5555555555555556, \"#d8576b\"], [0.6666666666666666, \"#ed7953\"], [0.7777777777777778, \"#fb9f3a\"], [0.8888888888888888, \"#fdca26\"], [1.0, \"#f0f921\"]], \"sequentialminus\": [[0.0, \"#0d0887\"], [0.1111111111111111, \"#46039f\"], [0.2222222222222222, \"#7201a8\"], [0.3333333333333333, \"#9c179e\"], [0.4444444444444444, \"#bd3786\"], [0.5555555555555556, \"#d8576b\"], [0.6666666666666666, \"#ed7953\"], [0.7777777777777778, \"#fb9f3a\"], [0.8888888888888888, \"#fdca26\"], [1.0, \"#f0f921\"]]}, \"colorway\": [\"#636efa\", \"#EF553B\", \"#00cc96\", \"#ab63fa\", \"#FFA15A\", \"#19d3f3\", \"#FF6692\", \"#B6E880\", \"#FF97FF\", \"#FECB52\"], \"font\": {\"color\": \"#2a3f5f\"}, \"geo\": {\"bgcolor\": \"white\", \"lakecolor\": \"white\", \"landcolor\": \"#E5ECF6\", \"showlakes\": true, \"showland\": true, \"subunitcolor\": \"white\"}, \"hoverlabel\": {\"align\": \"left\"}, \"hovermode\": \"closest\", \"mapbox\": {\"style\": \"light\"}, \"paper_bgcolor\": \"white\", \"plot_bgcolor\": \"#E5ECF6\", \"polar\": {\"angularaxis\": {\"gridcolor\": \"white\", \"linecolor\": \"white\", \"ticks\": \"\"}, \"bgcolor\": \"#E5ECF6\", \"radialaxis\": {\"gridcolor\": \"white\", \"linecolor\": \"white\", \"ticks\": \"\"}}, \"scene\": {\"xaxis\": {\"backgroundcolor\": \"#E5ECF6\", \"gridcolor\": \"white\", \"gridwidth\": 2, \"linecolor\": \"white\", \"showbackground\": true, \"ticks\": \"\", \"zerolinecolor\": \"white\"}, \"yaxis\": {\"backgroundcolor\": \"#E5ECF6\", \"gridcolor\": \"white\", \"gridwidth\": 2, \"linecolor\": \"white\", \"showbackground\": true, \"ticks\": \"\", \"zerolinecolor\": \"white\"}, \"zaxis\": {\"backgroundcolor\": \"#E5ECF6\", \"gridcolor\": \"white\", \"gridwidth\": 2, \"linecolor\": \"white\", \"showbackground\": true, \"ticks\": \"\", \"zerolinecolor\": \"white\"}}, \"shapedefaults\": {\"line\": {\"color\": \"#2a3f5f\"}}, \"ternary\": {\"aaxis\": {\"gridcolor\": \"white\", \"linecolor\": \"white\", \"ticks\": \"\"}, \"baxis\": {\"gridcolor\": \"white\", \"linecolor\": \"white\", \"ticks\": \"\"}, \"bgcolor\": \"#E5ECF6\", \"caxis\": {\"gridcolor\": \"white\", \"linecolor\": \"white\", \"ticks\": \"\"}}, \"title\": {\"x\": 0.05}, \"xaxis\": {\"automargin\": true, \"gridcolor\": \"white\", \"linecolor\": \"white\", \"ticks\": \"\", \"title\": {\"standoff\": 15}, \"zerolinecolor\": \"white\", \"zerolinewidth\": 2}, \"yaxis\": {\"automargin\": true, \"gridcolor\": \"white\", \"linecolor\": \"white\", \"ticks\": \"\", \"title\": {\"standoff\": 15}, \"zerolinecolor\": \"white\", \"zerolinewidth\": 2}}}, \"xaxis\": {\"anchor\": \"y\", \"domain\": [0.0, 1.0], \"title\": {\"text\": \"date\"}}, \"yaxis\": {\"anchor\": \"x\", \"domain\": [0.0, 1.0], \"title\": {\"text\": \"35-44\"}}},\n",
              "                        {\"responsive\": true}\n",
              "                    ).then(function(){\n",
              "                            \n",
              "var gd = document.getElementById('dc53fa74-a098-40eb-ae66-7b06855c3070');\n",
              "var x = new MutationObserver(function (mutations, observer) {{\n",
              "        var display = window.getComputedStyle(gd).display;\n",
              "        if (!display || display === 'none') {{\n",
              "            console.log([gd, 'removed!']);\n",
              "            Plotly.purge(gd);\n",
              "            observer.disconnect();\n",
              "        }}\n",
              "}});\n",
              "\n",
              "// Listen for the removal of the full notebook cells\n",
              "var notebookContainer = gd.closest('#notebook-container');\n",
              "if (notebookContainer) {{\n",
              "    x.observe(notebookContainer, {childList: true});\n",
              "}}\n",
              "\n",
              "// Listen for the clearing of the current output cell\n",
              "var outputEl = gd.closest('.output');\n",
              "if (outputEl) {{\n",
              "    x.observe(outputEl, {childList: true});\n",
              "}}\n",
              "\n",
              "                        })\n",
              "                };\n",
              "                \n",
              "            </script>\n",
              "        </div>\n",
              "</body>\n",
              "</html>"
            ]
          },
          "metadata": {
            "tags": []
          }
        }
      ]
    }
  ]
}